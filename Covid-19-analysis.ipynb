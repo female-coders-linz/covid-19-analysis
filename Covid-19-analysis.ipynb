{
  "nbformat": 4,
  "nbformat_minor": 0,
  "metadata": {
    "colab": {
      "name": "CovID.ipynb",
      "provenance": [],
      "collapsed_sections": []
    },
    "kernelspec": {
      "name": "python3",
      "display_name": "Python 3"
    }
  },
  "cells": [
    {
      "cell_type": "code",
      "metadata": {
        "id": "ZBK2ZBADs_r6",
        "colab_type": "code",
        "colab": {}
      },
      "source": [
        "from IPython.display import clear_output"
      ],
      "execution_count": 0,
      "outputs": []
    },
    {
      "cell_type": "code",
      "metadata": {
        "id": "wWc9QkvXMImr",
        "colab_type": "code",
        "colab": {}
      },
      "source": [
        "!pip install geopandas\n",
        "!pip install gitpython\n",
        "clear_output()"
      ],
      "execution_count": 0,
      "outputs": []
    },
    {
      "cell_type": "code",
      "metadata": {
        "id": "1Xqe1HkcMaJP",
        "colab_type": "code",
        "colab": {}
      },
      "source": [
        "import geopandas\n",
        "import numpy as np\n",
        "import pandas as pd\n",
        "\n",
        "import matplotlib.pyplot as plt\n",
        "\n",
        "import urllib.request\n",
        "import pathlib\n",
        "\n",
        "from zipfile import ZipFile\n",
        "import git\n",
        "import os\n",
        "\n",
        "% matplotlib inline"
      ],
      "execution_count": 0,
      "outputs": []
    },
    {
      "cell_type": "markdown",
      "metadata": {
        "id": "XFOtQXFMUpjl",
        "colab_type": "text"
      },
      "source": [
        "Clone the Repository with the Covid Data"
      ]
    },
    {
      "cell_type": "code",
      "metadata": {
        "id": "sKadmfMVZHsv",
        "colab_type": "code",
        "colab": {}
      },
      "source": [
        "os.mkdir(\"/content/covid-data\")\n",
        "#git.Git(\"/content/covid-data\").clone(\"https://github.com/statistikat/coronaDAT.git\")\n",
        "\n",
        "repo = git.Repo.clone_from(\"https://github.com/statistikat/coronaDAT.git\", \"/content/covid-data\", no_checkout=True)\n",
        "repo.git.checkout(\"8f9ffd3b1159172a331bd42ed08a5d2afd24cd8d\")"
      ],
      "execution_count": 0,
      "outputs": []
    },
    {
      "cell_type": "markdown",
      "metadata": {
        "id": "FuFpilhMV7IX",
        "colab_type": "text"
      },
      "source": [
        "Have a look at the downloaded data. How is the structure? What kind of data does it contain?"
      ]
    },
    {
      "cell_type": "markdown",
      "metadata": {
        "id": "y2TrxTjYXks_",
        "colab_type": "text"
      },
      "source": [
        "Start with PiePlot of gender data"
      ]
    },
    {
      "cell_type": "code",
      "metadata": {
        "id": "OQxtslY7X-d3",
        "colab_type": "code",
        "colab": {}
      },
      "source": [
        "gender = pd.read_csv(\"/content/covid-data/latest/geschlecht.csv\", sep=\";\")"
      ],
      "execution_count": 0,
      "outputs": []
    },
    {
      "cell_type": "code",
      "metadata": {
        "id": "XlQ6EEhSYCBZ",
        "colab_type": "code",
        "colab": {}
      },
      "source": [
        "gender.index = gender['geschlecht']"
      ],
      "execution_count": 0,
      "outputs": []
    },
    {
      "cell_type": "code",
      "metadata": {
        "id": "XeaUmrpTYDT4",
        "colab_type": "code",
        "colab": {}
      },
      "source": [
        "gender"
      ],
      "execution_count": 0,
      "outputs": []
    },
    {
      "cell_type": "code",
      "metadata": {
        "id": "FsXRxqIQYDV7",
        "colab_type": "code",
        "colab": {}
      },
      "source": [
        "plot = gender.plot.pie(y='freq', figsize=(5, 5), autopct='%1.0f%%', pctdistance=0.5, labeldistance=1.2)"
      ],
      "execution_count": 0,
      "outputs": []
    },
    {
      "cell_type": "markdown",
      "metadata": {
        "id": "6euUyjvna4Ek",
        "colab_type": "text"
      },
      "source": [
        "PiePlot or BarPlot for age data?"
      ]
    },
    {
      "cell_type": "code",
      "metadata": {
        "id": "TLP-48pBYFdu",
        "colab_type": "code",
        "colab": {}
      },
      "source": [
        "age = pd.read_csv(\"/content/covid-data/latest/alter.csv\", sep=\";\")"
      ],
      "execution_count": 0,
      "outputs": []
    },
    {
      "cell_type": "code",
      "metadata": {
        "colab_type": "code",
        "id": "5Zt0dFi9CysS",
        "colab": {}
      },
      "source": [
        "age.index = age['altersgruppe']"
      ],
      "execution_count": 0,
      "outputs": []
    },
    {
      "cell_type": "code",
      "metadata": {
        "id": "DOdqJ61ta81g",
        "colab_type": "code",
        "colab": {}
      },
      "source": [
        "age"
      ],
      "execution_count": 0,
      "outputs": []
    },
    {
      "cell_type": "code",
      "metadata": {
        "id": "roUxu6dZa84H",
        "colab_type": "code",
        "colab": {}
      },
      "source": [
        "plot = age.plot.pie(y='freq', figsize=(5, 5), autopct='%1.0f%%', pctdistance=0.5, labeldistance=1.2)"
      ],
      "execution_count": 0,
      "outputs": []
    },
    {
      "cell_type": "code",
      "metadata": {
        "id": "7VTbVNsVa865",
        "colab_type": "code",
        "colab": {}
      },
      "source": [
        "plot = age.plot.bar(x='altersgruppe', y='freq', rot=0)"
      ],
      "execution_count": 0,
      "outputs": []
    },
    {
      "cell_type": "code",
      "metadata": {
        "id": "LOQ8OEJtYEq-",
        "colab_type": "code",
        "colab": {}
      },
      "source": [
        ""
      ],
      "execution_count": 0,
      "outputs": []
    },
    {
      "cell_type": "markdown",
      "metadata": {
        "id": "F_PEDkk1dIgv",
        "colab_type": "text"
      },
      "source": [
        "Show the data for the single bezirke on a map"
      ]
    },
    {
      "cell_type": "code",
      "metadata": {
        "id": "oNJlB36CYEs7",
        "colab_type": "code",
        "colab": {}
      },
      "source": [
        "cov_bz = pd.read_csv(\"/content/covid-data/latest/bezirke.csv\", sep=\";\")"
      ],
      "execution_count": 0,
      "outputs": []
    },
    {
      "cell_type": "code",
      "metadata": {
        "id": "fXID9YPtZIPt",
        "colab_type": "code",
        "colab": {}
      },
      "source": [
        "cov_bz.head()"
      ],
      "execution_count": 0,
      "outputs": []
    },
    {
      "cell_type": "code",
      "metadata": {
        "id": "FyWo49bqNF8L",
        "colab_type": "code",
        "colab": {}
      },
      "source": [
        "url = \"http://data.statistik.gv.at/data/OGDEXT_GEM_1_STATISTIK_AUSTRIA_20200101.zip\"\n",
        "urllib.request.urlretrieve(url, '/content/Shapefile.zip')"
      ],
      "execution_count": 0,
      "outputs": []
    },
    {
      "cell_type": "code",
      "metadata": {
        "id": "-L0YvsMxNGED",
        "colab_type": "code",
        "colab": {}
      },
      "source": [
        "# Create a ZipFile Object and load sample.zip in it\n",
        "with ZipFile('/content/Shapefile.zip', 'r') as zipObj:\n",
        "   # Extract all the contents of zip file in different directory\n",
        "   zipObj.extractall('Shapefile')"
      ],
      "execution_count": 0,
      "outputs": []
    },
    {
      "cell_type": "code",
      "metadata": {
        "id": "UmIoRP3EN6-R",
        "colab_type": "code",
        "colab": {}
      },
      "source": [
        "austria = geopandas.read_file('/content/Shapefile/STATISTIK_AUSTRIA_GEM_20200101Polygon.shp', encoding='utf-8')"
      ],
      "execution_count": 0,
      "outputs": []
    },
    {
      "cell_type": "markdown",
      "metadata": {
        "id": "b3gLDzb2fhXM",
        "colab_type": "text"
      },
      "source": [
        "Look at the shapefile dataframe, plot it"
      ]
    },
    {
      "cell_type": "code",
      "metadata": {
        "id": "XLQ_YbMzfdeG",
        "colab_type": "code",
        "colab": {}
      },
      "source": [
        "austria.head()"
      ],
      "execution_count": 0,
      "outputs": []
    },
    {
      "cell_type": "code",
      "metadata": {
        "id": "RPbhTfnCN7i_",
        "colab_type": "code",
        "colab": {}
      },
      "source": [
        "austria.plot()"
      ],
      "execution_count": 0,
      "outputs": []
    },
    {
      "cell_type": "code",
      "metadata": {
        "id": "jqG2A9A1fsnk",
        "colab_type": "code",
        "colab": {}
      },
      "source": [
        "austria[austria.name == \"Linz\"].plot()"
      ],
      "execution_count": 0,
      "outputs": []
    },
    {
      "cell_type": "code",
      "metadata": {
        "id": "waTdl1oA-3zF",
        "colab_type": "code",
        "colab": {}
      },
      "source": [
        ""
      ],
      "execution_count": 0,
      "outputs": []
    },
    {
      "cell_type": "markdown",
      "metadata": {
        "id": "Hd0bw2Wj-4Bu",
        "colab_type": "text"
      },
      "source": [
        "Load additional Data about Bezirke"
      ]
    },
    {
      "cell_type": "code",
      "metadata": {
        "id": "WF4Mk51HYqgt",
        "colab_type": "code",
        "colab": {}
      },
      "source": [
        "git.Git(\"/content/\").clone(\"https://github.com/sauarampfa1/covid-19-analysis.git\")"
      ],
      "execution_count": 0,
      "outputs": []
    },
    {
      "cell_type": "code",
      "metadata": {
        "id": "LG49yXinZIZe",
        "colab_type": "code",
        "colab": {}
      },
      "source": [
        "bezirke = pd.read_csv(\"/content/covid-19-analysis/data/Wohnbezirke.csv\")"
      ],
      "execution_count": 0,
      "outputs": []
    },
    {
      "cell_type": "code",
      "metadata": {
        "id": "U0TNi5OlaEiB",
        "colab_type": "code",
        "colab": {}
      },
      "source": [
        "bezirke.columns = ['bzk_id', 'bzk_name', 'bundesland', 'Kfz_Kz', 'area', 'inhabitants', 'population_denseness', 'amount', 'region_name']"
      ],
      "execution_count": 0,
      "outputs": []
    },
    {
      "cell_type": "code",
      "metadata": {
        "id": "NnvbAowtQ8Ov",
        "colab_type": "code",
        "colab": {}
      },
      "source": [
        "bezirke.head()"
      ],
      "execution_count": 0,
      "outputs": []
    },
    {
      "cell_type": "code",
      "metadata": {
        "id": "yEkZTubUDv7q",
        "colab_type": "code",
        "colab": {}
      },
      "source": [
        "def to_numeric(series):\n",
        "  series = pd.to_numeric(series.apply(lambda x : x.replace(\".\", \"\")))\n",
        "  return series\n",
        "\n",
        "\n",
        "def clean_bezirke(bezirke_df):\n",
        "  bezirke_df['bzk_name'] = bezirke_df['bzk_name'].apply(lambda x : x.split(\"(\")[0])\n",
        "  bezirke_df['bzk_name'] = bezirke_df['bzk_name'].apply(lambda x : x.split(\" *\")[0])\n",
        "\n",
        "  bezirke_df = bezirke_df.drop(21)\n",
        "\n",
        "  bezirke_df[\"area\"] = to_numeric(bezirke_df[\"area\"])\n",
        "  bezirke_df[\"inhabitants\"] = to_numeric(bezirke_df[\"inhabitants\"])\n",
        "  bezirke_df[\"population_denseness\"] = to_numeric(bezirke_df[\"population_denseness\"])\n",
        "\n",
        "  return bezirke_df"
      ],
      "execution_count": 0,
      "outputs": []
    },
    {
      "cell_type": "code",
      "metadata": {
        "id": "H3AOpTTEENZ7",
        "colab_type": "code",
        "colab": {}
      },
      "source": [
        "bezirke = clean_bezirke(bezirke)"
      ],
      "execution_count": 0,
      "outputs": []
    },
    {
      "cell_type": "code",
      "metadata": {
        "id": "K_Qsy6cswpwK",
        "colab_type": "code",
        "colab": {}
      },
      "source": [
        "bezirke"
      ],
      "execution_count": 0,
      "outputs": []
    },
    {
      "cell_type": "code",
      "metadata": {
        "id": "tURFweWkrHhN",
        "colab_type": "code",
        "colab": {}
      },
      "source": [
        "# execute this cell 2 times. not really sure why, but the bzk_name is nan the first time\n",
        "aggregation_functions = {'bzk_id': 'first',\n",
        "                         'bundesland': 'first', 'Kfz_Kz': 'first', \n",
        "                         'area': 'sum', 'inhabitants': 'sum', \n",
        "                         'population_denseness': 'sum', 'amount': 'first', 'region_name': 'first'}\n",
        "bezirke_new = bezirke.groupby(bezirke['bzk_name'], as_index=False).aggregate(aggregation_functions).reindex(columns=bezirke.columns)\n",
        "#cov_bz = cov_bz_new"
      ],
      "execution_count": 0,
      "outputs": []
    },
    {
      "cell_type": "code",
      "metadata": {
        "id": "uzwoLrBkVmz5",
        "colab_type": "code",
        "colab": {}
      },
      "source": [
        "bezirke_new"
      ],
      "execution_count": 0,
      "outputs": []
    },
    {
      "cell_type": "code",
      "metadata": {
        "id": "909BIFJduCeL",
        "colab_type": "code",
        "colab": {}
      },
      "source": [
        "bezirke = bezirke_new"
      ],
      "execution_count": 0,
      "outputs": []
    },
    {
      "cell_type": "code",
      "metadata": {
        "id": "IVQ0J-GoV_ZQ",
        "colab_type": "code",
        "colab": {}
      },
      "source": [
        "sum(bezirke['inhabitants'])"
      ],
      "execution_count": 0,
      "outputs": []
    },
    {
      "cell_type": "markdown",
      "metadata": {
        "id": "ZJYkfuRYSB-1",
        "colab_type": "text"
      },
      "source": [
        "assign bezirk zu each entry in shapefile"
      ]
    },
    {
      "cell_type": "code",
      "metadata": {
        "id": "4lIkhmY7Q8V1",
        "colab_type": "code",
        "colab": {}
      },
      "source": [
        "austria.head()"
      ],
      "execution_count": 0,
      "outputs": []
    },
    {
      "cell_type": "code",
      "metadata": {
        "id": "_vtttSdIn-jI",
        "colab_type": "code",
        "colab": {}
      },
      "source": [
        "bezirke.head()"
      ],
      "execution_count": 0,
      "outputs": []
    },
    {
      "cell_type": "code",
      "metadata": {
        "id": "9KNStUiZSQFV",
        "colab_type": "code",
        "colab": {}
      },
      "source": [
        "bzk = []\n",
        "#bzk_name = []\n",
        "#bzk_bundesland = []\n",
        "\n",
        "for idx, row in austria.iterrows():\n",
        "  added = False\n",
        "  for bzk_idx, bzk_row in bezirke.iterrows():\n",
        "    if row['id'].startswith(bzk_row['bzk_id']):\n",
        "      bzk.append(bzk_row['bzk_id'])\n",
        "      added = True\n",
        "  if row['id'].startswith('9'):\n",
        "    bzk.append('900')\n",
        "    added = True\n",
        "  if added == False:\n",
        "    bzk.append('0')\n",
        "    added = True\n",
        "    #print(row['id'])\n",
        "    #print(row['name'])\n"
      ],
      "execution_count": 0,
      "outputs": []
    },
    {
      "cell_type": "code",
      "metadata": {
        "id": "m19nDBxcUZLj",
        "colab_type": "code",
        "colab": {}
      },
      "source": [
        "austria['bezirk_id'] = bzk"
      ],
      "execution_count": 0,
      "outputs": []
    },
    {
      "cell_type": "markdown",
      "metadata": {
        "id": "vRgomhgWBYh3",
        "colab_type": "text"
      },
      "source": [
        "Correct the cov_bz data so that it fits our ids - we need it to assign the casenumbers to the shapefile"
      ]
    },
    {
      "cell_type": "code",
      "metadata": {
        "id": "R00gOMHeZiFi",
        "colab_type": "code",
        "colab": {}
      },
      "source": [
        "cov_bz.loc[cov_bz['bkz'] == 323, 'bkz'] = 304\n",
        "cov_bz.loc[cov_bz['bkz'] == 319, 'bkz'] = 302"
      ],
      "execution_count": 0,
      "outputs": []
    },
    {
      "cell_type": "code",
      "metadata": {
        "id": "efYuSZ2Hf0p0",
        "colab_type": "code",
        "colab": {}
      },
      "source": [
        "aggregation_functions = {'freq': 'sum', 'date': 'first'}\n",
        "cov_bz_new = cov_bz.groupby(cov_bz['bkz'], as_index=False).aggregate(aggregation_functions).reindex(columns=cov_bz.columns)\n",
        "cov_bz = cov_bz_new"
      ],
      "execution_count": 0,
      "outputs": []
    },
    {
      "cell_type": "code",
      "metadata": {
        "id": "1e3S74dXhdlO",
        "colab_type": "code",
        "colab": {}
      },
      "source": [
        "cov_bz"
      ],
      "execution_count": 0,
      "outputs": []
    },
    {
      "cell_type": "markdown",
      "metadata": {
        "id": "BRP0XkU6Bs-6",
        "colab_type": "text"
      },
      "source": [
        "Assign case-frequencies of cov_bz and number of inhabitants of bezirke to the shapefile"
      ]
    },
    {
      "cell_type": "code",
      "metadata": {
        "id": "EqoKYIg6CyRh",
        "colab_type": "code",
        "colab": {}
      },
      "source": [
        "bezirk_cases_dict = cov_bz.set_index('bkz').to_dict()['freq']"
      ],
      "execution_count": 0,
      "outputs": []
    },
    {
      "cell_type": "code",
      "metadata": {
        "id": "xiqoeoVpjThh",
        "colab_type": "code",
        "colab": {}
      },
      "source": [
        "austria['cases'] = pd.to_numeric(austria['bezirk_id'])\n",
        "\n",
        "#not all bezirk ids are present in the dict, add the missing ones and assign 0 cases\n",
        "for i,row in austria.iterrows():\n",
        "  if int(row['bezirk_id']) not in list(bezirk_cases_dict.keys()):\n",
        "    bezirk_cases_dict[int(row['bezirk_id'])] = 0"
      ],
      "execution_count": 0,
      "outputs": []
    },
    {
      "cell_type": "code",
      "metadata": {
        "id": "D4VOKauaC1h0",
        "colab_type": "code",
        "colab": {}
      },
      "source": [
        "austria['cases'] = pd.to_numeric(austria['cases'].replace(bezirk_cases_dict))"
      ],
      "execution_count": 0,
      "outputs": []
    },
    {
      "cell_type": "code",
      "metadata": {
        "id": "r0iZCoNcCzvJ",
        "colab_type": "code",
        "colab": {}
      },
      "source": [
        "bezirk_inhabitants_dict = bezirke.set_index('bzk_id').to_dict()['inhabitants']"
      ],
      "execution_count": 0,
      "outputs": []
    },
    {
      "cell_type": "code",
      "metadata": {
        "id": "TYoFzZa3nNh7",
        "colab_type": "code",
        "colab": {}
      },
      "source": [
        "austria['inhabitants'] = austria['bezirk_id']\n",
        "austria['inhabitants'] = pd.to_numeric(austria['inhabitants'].replace(bezirk_inhabitants_dict))\n",
        "austria['inhabitants'].replace(0, 1, inplace=True)"
      ],
      "execution_count": 0,
      "outputs": []
    },
    {
      "cell_type": "code",
      "metadata": {
        "id": "ZtXxkMC_DWPK",
        "colab_type": "code",
        "colab": {}
      },
      "source": [
        "#fig, ax = plt.subplots(1, 1)\n",
        "austria.plot(column='cases', legend=True) # ax = ax"
      ],
      "execution_count": 0,
      "outputs": []
    },
    {
      "cell_type": "code",
      "metadata": {
        "id": "nPEqL0DqDWRi",
        "colab_type": "code",
        "colab": {}
      },
      "source": [
        ""
      ],
      "execution_count": 0,
      "outputs": []
    },
    {
      "cell_type": "markdown",
      "metadata": {
        "id": "Am2FQGDeEdlJ",
        "colab_type": "text"
      },
      "source": [
        "Show the relative cases "
      ]
    },
    {
      "cell_type": "code",
      "metadata": {
        "id": "rtFlW9qZhU4O",
        "colab_type": "code",
        "colab": {}
      },
      "source": [
        "austria['relative_cases'] = austria['cases'] / austria['inhabitants']"
      ],
      "execution_count": 0,
      "outputs": []
    },
    {
      "cell_type": "code",
      "metadata": {
        "id": "jPc2HEMSk0v_",
        "colab_type": "code",
        "colab": {}
      },
      "source": [
        "#austria['cases_per_10000'] = austria['relative_cases'] * 10000"
      ],
      "execution_count": 0,
      "outputs": []
    },
    {
      "cell_type": "code",
      "metadata": {
        "id": "kkuR1w4Ug8Lf",
        "colab_type": "code",
        "colab": {}
      },
      "source": [
        "austria.head()"
      ],
      "execution_count": 0,
      "outputs": []
    },
    {
      "cell_type": "code",
      "metadata": {
        "id": "mLAHjQda41on",
        "colab_type": "code",
        "colab": {}
      },
      "source": [
        "plt = austria.plot(column='relative_cases', legend=True)"
      ],
      "execution_count": 0,
      "outputs": []
    },
    {
      "cell_type": "code",
      "metadata": {
        "id": "Dm3NqgHD0Gw7",
        "colab_type": "code",
        "colab": {}
      },
      "source": [
        ""
      ],
      "execution_count": 0,
      "outputs": []
    },
    {
      "cell_type": "markdown",
      "metadata": {
        "id": "z9P_hgoCGBOi",
        "colab_type": "text"
      },
      "source": [
        "Lineplot of general data"
      ]
    },
    {
      "cell_type": "code",
      "metadata": {
        "id": "u1jBMgaY0CT5",
        "colab_type": "code",
        "colab": {}
      },
      "source": [
        "general = pd.read_csv(\"/content/covid-data/latest/allgemein.csv\", sep=\";\")"
      ],
      "execution_count": 0,
      "outputs": []
    },
    {
      "cell_type": "code",
      "metadata": {
        "id": "B6g9moFF0CXF",
        "colab_type": "code",
        "colab": {}
      },
      "source": [
        "general"
      ],
      "execution_count": 0,
      "outputs": []
    },
    {
      "cell_type": "code",
      "metadata": {
        "id": "QbhoHgPf1BnK",
        "colab_type": "code",
        "colab": {}
      },
      "source": [
        "archive_folder = \"/content/covid-data/archive/\"\n",
        "data = []\n",
        "general = pd.DataFrame(columns=['erkrankungen', 'hospitalisiert', 'intensivstation', 'nr_tests', 'date'])\n",
        "folders = os.listdir(archive_folder)\n",
        "folders.sort()\n",
        "for folder in folders:\n",
        "  d = pd.read_csv(os.path.join(archive_folder, folder, \"ts\", \"allgemein.csv\"), sep=\";\")\n",
        "  general = general.append(d)"
      ],
      "execution_count": 0,
      "outputs": []
    },
    {
      "cell_type": "code",
      "metadata": {
        "id": "6eBlXv42GR2g",
        "colab_type": "code",
        "colab": {}
      },
      "source": [
        "general"
      ],
      "execution_count": 0,
      "outputs": []
    },
    {
      "cell_type": "code",
      "metadata": {
        "id": "EHwUouSKXeJ0",
        "colab_type": "code",
        "colab": {}
      },
      "source": [
        "lines = general.plot.line(x=\"date\", rot=45)"
      ],
      "execution_count": 0,
      "outputs": []
    },
    {
      "cell_type": "code",
      "metadata": {
        "id": "LyyJERB31BvW",
        "colab_type": "code",
        "colab": {}
      },
      "source": [
        "lines = general.plot.line(subplots=True, x=\"date\")"
      ],
      "execution_count": 0,
      "outputs": []
    },
    {
      "cell_type": "code",
      "metadata": {
        "id": "QeNYS_kD1B08",
        "colab_type": "code",
        "colab": {}
      },
      "source": [
        "lines = general.plot.line(x=\"date\", y=[\"erkrankungen\", \"hospitalisiert\", 'intensivstation'], rot=45)"
      ],
      "execution_count": 0,
      "outputs": []
    },
    {
      "cell_type": "code",
      "metadata": {
        "id": "aK9DPKmG4VFy",
        "colab_type": "code",
        "colab": {}
      },
      "source": [
        ""
      ],
      "execution_count": 0,
      "outputs": []
    },
    {
      "cell_type": "code",
      "metadata": {
        "id": "DEA6Pt__4VLo",
        "colab_type": "code",
        "colab": {}
      },
      "source": [
        "def load_and_clean_data(filename, aggregation_functions):\n",
        "  data = pd.read_csv(filename, sep=\";\")\n",
        "\n",
        "  #aggregation_functions = {'nuts2': 'first', 'gesundungen': 'sum'}\n",
        "  data = data.groupby(data['date'], as_index=False).aggregate(aggregation_functions).reindex(columns=data.columns)\n",
        "  data['date'] = data['date'].apply(lambda x : x.split()[0])\n",
        "  data = data.set_index(data['date'])\n",
        "  data = data.drop(columns=['nuts2', 'date'])\n",
        "  data = data.loc[~data.index.duplicated(keep='first')]\n",
        "  return data"
      ],
      "execution_count": 0,
      "outputs": []
    },
    {
      "cell_type": "code",
      "metadata": {
        "id": "d98TVMAjHxKn",
        "colab_type": "code",
        "colab": {}
      },
      "source": [
        "healthy = load_and_clean_data(\"/content/covid-data/ts/gesundungen_bl.csv\", {'nuts2': 'first', 'gesundungen': 'sum'})\n",
        "hospital = load_and_clean_data(\"/content/covid-data/ts/hospitalisierungen_bl.csv\", {'nuts2': 'first', 'hospitalisiert': 'sum', 'intensivstation': 'sum', 'nr_tests': 'first'})\n",
        "dead = load_and_clean_data(\"/content/covid-data/ts/sterbefaelle_bl.csv\", {'nuts2': 'first', 'todesfaelle': 'sum'})"
      ],
      "execution_count": 0,
      "outputs": []
    },
    {
      "cell_type": "code",
      "metadata": {
        "id": "Rid-JvcxIl3G",
        "colab_type": "code",
        "colab": {}
      },
      "source": [
        "sick = general\n",
        "sick['date'] = sick['date'].apply(lambda x : x.split()[0])\n",
        "sick = sick.set_index(sick['date'])\n",
        "sick = sick.drop(columns=['hospitalisiert', 'intensivstation', 'nr_tests', 'date'])\n",
        "sick = sick.loc[~sick.index.duplicated(keep='first')]"
      ],
      "execution_count": 0,
      "outputs": []
    },
    {
      "cell_type": "code",
      "metadata": {
        "id": "uRsNM21paQzB",
        "colab_type": "code",
        "colab": {}
      },
      "source": [
        "result = pd.concat([sick, healthy, hospital, dead], axis=1, sort=True)"
      ],
      "execution_count": 0,
      "outputs": []
    },
    {
      "cell_type": "code",
      "metadata": {
        "id": "Lna5-0Ymj0Mp",
        "colab_type": "code",
        "colab": {}
      },
      "source": [
        "result['aktuell_krank'] = result['erkrankungen'] - result['gesundungen'] - result['todesfaelle']"
      ],
      "execution_count": 0,
      "outputs": []
    },
    {
      "cell_type": "code",
      "metadata": {
        "id": "TmN18l5HcVTT",
        "colab_type": "code",
        "colab": {}
      },
      "source": [
        "lines = result.plot.line(y=['erkrankungen', 'gesundungen', 'aktuell_krank', 'hospitalisiert', 'intensivstation', 'todesfaelle'])"
      ],
      "execution_count": 0,
      "outputs": []
    },
    {
      "cell_type": "code",
      "metadata": {
        "id": "4_gMpmJLhs6L",
        "colab_type": "code",
        "colab": {}
      },
      "source": [
        ""
      ],
      "execution_count": 0,
      "outputs": []
    },
    {
      "cell_type": "markdown",
      "metadata": {
        "id": "YmtGlYngJosN",
        "colab_type": "text"
      },
      "source": [
        "growth rate"
      ]
    },
    {
      "cell_type": "code",
      "metadata": {
        "id": "lqVj-Fx5Jpft",
        "colab_type": "code",
        "colab": {}
      },
      "source": [
        ""
      ],
      "execution_count": 0,
      "outputs": []
    },
    {
      "cell_type": "code",
      "metadata": {
        "id": "O9PRrQuLJp2V",
        "colab_type": "code",
        "colab": {}
      },
      "source": [
        ""
      ],
      "execution_count": 0,
      "outputs": []
    }
  ]
}