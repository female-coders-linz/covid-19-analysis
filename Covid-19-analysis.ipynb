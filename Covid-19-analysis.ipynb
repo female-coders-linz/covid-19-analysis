{
 "cells": [
  {
   "cell_type": "markdown",
   "metadata": {
    "id": "sfFOLtWOY7d-"
   },
   "source": [
    "Covid-19 Data analysis for Austria\n",
    "\n",
    "What we will do today:\n",
    "* Pie plot\n",
    "* Bar plot\n",
    "* plotting on a map\n",
    "* Line plot\n",
    "\n",
    "The data is taken from here https://github.com/statistikat/coronaDAT.git\n",
    "\n",
    "The map data for Austria is taken from here: https://www.data.gv.at/katalog/dataset/stat_gliederung-osterreichs-in-gemeinden14f53\n",
    "\n",
    "The additional info about the districts is takenfrom wikipedia: https://de.wikipedia.org/wiki/Liste_der_Bezirke_und_Statutarst%C3%A4dte_in_%C3%96sterreich\n",
    "\n",
    "\n",
    "The official data was finally published and can be found here: https://www.data.gv.at/covid-19/"
   ]
  },
  {
   "cell_type": "code",
   "execution_count": null,
   "metadata": {
    "id": "ZBK2ZBADs_r6"
   },
   "outputs": [],
   "source": [
    "from IPython.display import clear_output"
   ]
  },
  {
   "cell_type": "markdown",
   "metadata": {
    "id": "kEiGMbUKYn3n"
   },
   "source": [
    "Install the libraries geopandas and gitpython"
   ]
  },
  {
   "cell_type": "code",
   "execution_count": null,
   "metadata": {
    "id": "wWc9QkvXMImr"
   },
   "outputs": [],
   "source": [
    "!pip install geopandas\n",
    "!pip install gitpython\n",
    "clear_output()"
   ]
  },
  {
   "cell_type": "markdown",
   "metadata": {
    "id": "vNEK7WOqYuH2"
   },
   "source": [
    "Import all needed libraries"
   ]
  },
  {
   "cell_type": "code",
   "execution_count": null,
   "metadata": {
    "id": "1Xqe1HkcMaJP"
   },
   "outputs": [],
   "source": [
    "import geopandas\n",
    "import numpy as np\n",
    "import pandas as pd\n",
    "\n",
    "import matplotlib.pyplot as plt\n",
    "\n",
    "import urllib.request\n",
    "import pathlib\n",
    "\n",
    "from zipfile import ZipFile\n",
    "import git\n",
    "import os\n",
    "\n",
    "% matplotlib inline"
   ]
  },
  {
   "cell_type": "markdown",
   "metadata": {
    "id": "XFOtQXFMUpjl"
   },
   "source": [
    "Clone the Git Repository which contains the Covid Data\n",
    "\n",
    "The data was originally scraped from https://info.gesundheitsministerium.at/ before the layout of the dashboard was completely changed. Meanwhile the data is officially available here: https://www.data.gv.at/covid-19/"
   ]
  },
  {
   "cell_type": "code",
   "execution_count": null,
   "metadata": {
    "colab": {
     "base_uri": "https://localhost:8080/",
     "height": 36
    },
    "id": "sKadmfMVZHsv",
    "outputId": "a15a7fe6-482d-4950-cd0f-7e676a01c745"
   },
   "outputs": [],
   "source": [
    "os.mkdir(\"/content/covid-data\")\n",
    "\n",
    "repo = git.Repo.clone_from(\"https://github.com/statistikat/coronaDAT.git\", \"/content/covid-data\", no_checkout=True)\n",
    "repo.git.checkout(\"8a439f28bbe817090b9583148ce8a64e06800814\") # 18.04.2021"
   ]
  },
  {
   "cell_type": "code",
   "execution_count": null,
   "metadata": {
    "id": "toRJ-DLPL2AU"
   },
   "outputs": [],
   "source": [
    "# Create a ZipFile Object and load our data in it\n",
    "with ZipFile('/content/covid-data/archive/20210417/data/20210417_140201_orig_csv_ages.zip', 'r') as zipObj:\n",
    "   # Extract all the contents of zip file in different directory\n",
    "   zipObj.extractall('/content/covid-data/latest')"
   ]
  },
  {
   "cell_type": "markdown",
   "metadata": {
    "id": "FuFpilhMV7IX"
   },
   "source": [
    "Have a look at the downloaded data. How is the structure? What kind of data does it contain?"
   ]
  },
  {
   "cell_type": "markdown",
   "metadata": {
    "id": "y2TrxTjYXks_"
   },
   "source": [
    "Start with [PiePlot](https://matplotlib.org/3.1.1/api/_as_gen/matplotlib.axes.Axes.pie.html) of gender data\n"
   ]
  },
  {
   "cell_type": "code",
   "execution_count": null,
   "metadata": {
    "id": "OQxtslY7X-d3"
   },
   "outputs": [],
   "source": [
    "agegroup = pd.read_csv(\"/content/covid-data/latest/CovidFaelle_Altersgruppe.csv\", sep=\";\")"
   ]
  },
  {
   "cell_type": "code",
   "execution_count": null,
   "metadata": {
    "colab": {
     "base_uri": "https://localhost:8080/",
     "height": 226
    },
    "id": "1gzwfdKwMgRc",
    "outputId": "b75d32af-9be3-4755-a5b9-c4d5f4235e36"
   },
   "outputs": [],
   "source": [
    "agegroup.head()"
   ]
  },
  {
   "cell_type": "code",
   "execution_count": null,
   "metadata": {
    "colab": {
     "base_uri": "https://localhost:8080/"
    },
    "id": "sEIhBYqJNK8a",
    "outputId": "a098b173-2f5c-45ee-fd3b-33d13e776d8e"
   },
   "outputs": [],
   "source": [
    "sum_m = sum(agegroup[agegroup['Bundesland'] == \"Österreich\"][agegroup['Geschlecht'] == \"M\"]['Anzahl'])\n",
    "sum_f = sum(agegroup[agegroup['Bundesland'] == \"Österreich\"][agegroup['Geschlecht'] == \"W\"]['Anzahl'])\n",
    "\n",
    "gender = pd.DataFrame([[\"m\", sum_m], [\"f\", sum_f]], columns=['gender', 'freq'])"
   ]
  },
  {
   "cell_type": "code",
   "execution_count": null,
   "metadata": {
    "colab": {
     "base_uri": "https://localhost:8080/",
     "height": 303
    },
    "id": "FsXRxqIQYDV7",
    "outputId": "88d98011-2061-4e3b-a3cc-59f815db7a8b"
   },
   "outputs": [],
   "source": [
    "# use the .plot.pie() function\n",
    "plot = gender.plot.pie(y='freq', figsize=(5, 5), autopct='%1.0f%%', pctdistance=0.3, labeldistance=1.2, labels=gender['gender'])"
   ]
  },
  {
   "cell_type": "markdown",
   "metadata": {
    "id": "6euUyjvna4Ek"
   },
   "source": [
    "[PiePlot](https://matplotlib.org/3.1.1/api/_as_gen/matplotlib.axes.Axes.pie.html) or [BarPlot](https://matplotlib.org/3.1.1/api/_as_gen/matplotlib.axes.Axes.bar.html#matplotlib.axes.Axes.bar) for age data?"
   ]
  },
  {
   "cell_type": "code",
   "execution_count": null,
   "metadata": {
    "id": "TLP-48pBYFdu"
   },
   "outputs": [],
   "source": [
    "agegroup = agegroup[agegroup['Bundesland'] == \"Österreich\"]"
   ]
  },
  {
   "cell_type": "code",
   "execution_count": null,
   "metadata": {
    "id": "kOb7hpzvRQrP"
   },
   "outputs": [],
   "source": [
    "age = pd.DataFrame()\n",
    "age['agegroup'] = list(dict.fromkeys(list(agegroup['Altersgruppe'])))\n",
    "age['male'] = list(agegroup[agegroup['Geschlecht'] == \"M\"]['Anzahl'])\n",
    "age['male_inhabitants'] = list(agegroup[agegroup['Geschlecht'] == \"M\"]['AnzEinwohner'])\n",
    "age['female'] = list(agegroup[agegroup['Geschlecht'] == \"W\"]['Anzahl'])\n",
    "age['female_inhabitants'] = list(agegroup[agegroup['Geschlecht'] == \"W\"]['AnzEinwohner'])\n",
    "\n",
    "age['sum'] = age['male'] + age['female']\n",
    "age['sum_inhabitants'] = age['male_inhabitants'] + age['female_inhabitants']\n",
    "age['sum_norm'] = (age['male'] + age['female']) / age['sum_inhabitants']"
   ]
  },
  {
   "cell_type": "code",
   "execution_count": null,
   "metadata": {
    "colab": {
     "base_uri": "https://localhost:8080/",
     "height": 226
    },
    "id": "IVKZKM9BRlZz",
    "outputId": "929deb71-d3e2-49ea-a443-288c1c893f60"
   },
   "outputs": [],
   "source": [
    "age.head()"
   ]
  },
  {
   "cell_type": "code",
   "execution_count": null,
   "metadata": {
    "colab": {
     "base_uri": "https://localhost:8080/",
     "height": 303
    },
    "id": "roUxu6dZa84H",
    "outputId": "878ab3d3-f349-48a9-965b-01c746ef24f7"
   },
   "outputs": [],
   "source": [
    "# use the .plot.pie() function\n",
    "plot = age.plot.pie(y='sum', figsize=(5, 5), autopct='%1.0f%%', pctdistance=0.5, labeldistance=1.2, labels=age['agegroup'])"
   ]
  },
  {
   "cell_type": "code",
   "execution_count": null,
   "metadata": {
    "colab": {
     "base_uri": "https://localhost:8080/",
     "height": 296
    },
    "id": "eoTXx9uzUO5L",
    "outputId": "ecd8b4ce-6ef1-4cda-ee4b-41b51d9dc1db"
   },
   "outputs": [],
   "source": [
    "# use the .plot.bar() function\n",
    "plot = age.plot.bar(x='agegroup', y='sum', rot=40)"
   ]
  },
  {
   "cell_type": "code",
   "execution_count": null,
   "metadata": {
    "colab": {
     "base_uri": "https://localhost:8080/",
     "height": 296
    },
    "id": "4kj-y0R0Dzlf",
    "outputId": "2d9e6e80-64e7-40cf-a1e6-ccc29da49b74"
   },
   "outputs": [],
   "source": [
    "plot = age.plot.bar(x='agegroup', y='sum_norm', rot=40)"
   ]
  },
  {
   "cell_type": "code",
   "execution_count": null,
   "metadata": {
    "colab": {
     "base_uri": "https://localhost:8080/",
     "height": 314
    },
    "id": "7VTbVNsVa865",
    "outputId": "65b9809e-f42f-45bf-e886-5d811188511b"
   },
   "outputs": [],
   "source": [
    "# use the .plot.bar() function\n",
    "age.plot.bar(x='agegroup', y=['male', 'female'], rot=40)"
   ]
  },
  {
   "cell_type": "code",
   "execution_count": null,
   "metadata": {
    "id": "LOQ8OEJtYEq-"
   },
   "outputs": [],
   "source": []
  },
  {
   "cell_type": "markdown",
   "metadata": {
    "id": "F_PEDkk1dIgv"
   },
   "source": [
    "Show the data for the single districts on a map"
   ]
  },
  {
   "cell_type": "code",
   "execution_count": null,
   "metadata": {
    "id": "oNJlB36CYEs7"
   },
   "outputs": [],
   "source": [
    "cov_district = pd.read_csv(\"/content/covid-data/latest/CovidFaelle_GKZ.csv\", sep=\";\")"
   ]
  },
  {
   "cell_type": "code",
   "execution_count": null,
   "metadata": {
    "colab": {
     "base_uri": "https://localhost:8080/",
     "height": 206
    },
    "id": "fXID9YPtZIPt",
    "outputId": "1958a4f4-9c4d-436c-b2a9-59a02884be30"
   },
   "outputs": [],
   "source": [
    "cov_district.head()"
   ]
  },
  {
   "cell_type": "markdown",
   "metadata": {
    "id": "WEuXUiGSa0TP"
   },
   "source": [
    "Download the Shapefile for Austria. It's a file that describes the borders of states and villages in Austria."
   ]
  },
  {
   "cell_type": "code",
   "execution_count": null,
   "metadata": {
    "colab": {
     "base_uri": "https://localhost:8080/"
    },
    "id": "FyWo49bqNF8L",
    "outputId": "f3788363-880c-46a8-e651-75d446d30830"
   },
   "outputs": [],
   "source": [
    "#https://www.data.gv.at/katalog/dataset/stat_gliederung-osterreichs-in-gemeinden14f53\n",
    "url = \"http://data.statistik.gv.at/data/OGDEXT_GEM_1_STATISTIK_AUSTRIA_20200101.zip\"\n",
    "urllib.request.urlretrieve(url, '/content/Shapefile.zip')"
   ]
  },
  {
   "cell_type": "code",
   "execution_count": null,
   "metadata": {
    "id": "-L0YvsMxNGED"
   },
   "outputs": [],
   "source": [
    "# Create a ZipFile Object and load sample.zip in it\n",
    "with ZipFile('/content/Shapefile.zip', 'r') as zipObj:\n",
    "   # Extract all the contents of zip file in different directory\n",
    "   zipObj.extractall('Shapefile')"
   ]
  },
  {
   "cell_type": "code",
   "execution_count": null,
   "metadata": {
    "id": "UmIoRP3EN6-R"
   },
   "outputs": [],
   "source": [
    "# load the .shp file into the variable \"austria\"\n",
    "austria = geopandas.read_file('/content/Shapefile/STATISTIK_AUSTRIA_GEM_20200101Polygon.shp', encoding='utf-8')"
   ]
  },
  {
   "cell_type": "markdown",
   "metadata": {
    "id": "b3gLDzb2fhXM"
   },
   "source": [
    "Look at the shapefile dataframe, plot it"
   ]
  },
  {
   "cell_type": "code",
   "execution_count": null,
   "metadata": {
    "colab": {
     "base_uri": "https://localhost:8080/",
     "height": 206
    },
    "id": "XLQ_YbMzfdeG",
    "outputId": "0ff169f6-4283-467c-ffb5-207b02aaa33a"
   },
   "outputs": [],
   "source": [
    "austria.head()"
   ]
  },
  {
   "cell_type": "code",
   "execution_count": null,
   "metadata": {
    "colab": {
     "base_uri": "https://localhost:8080/",
     "height": 238
    },
    "id": "RPbhTfnCN7i_",
    "outputId": "db80f532-2cb4-4b21-89ea-1a6aac59dab6"
   },
   "outputs": [],
   "source": [
    "austria.plot()"
   ]
  },
  {
   "cell_type": "code",
   "execution_count": null,
   "metadata": {
    "colab": {
     "base_uri": "https://localhost:8080/",
     "height": 283
    },
    "id": "jqG2A9A1fsnk",
    "outputId": "75555893-5f9f-45ff-943c-a3e5ca322e5f"
   },
   "outputs": [],
   "source": [
    "austria[austria.name == \"Linz\"].plot()"
   ]
  },
  {
   "cell_type": "code",
   "execution_count": null,
   "metadata": {
    "id": "waTdl1oA-3zF"
   },
   "outputs": [],
   "source": [
    "#combine with cov data"
   ]
  },
  {
   "cell_type": "code",
   "execution_count": null,
   "metadata": {
    "id": "gEA2Mpor6IiT"
   },
   "outputs": [],
   "source": [
    "ids = []\n",
    "for id in austria['id']:\n",
    "  id = id[:-2]\n",
    "  if id[0] == '9':\n",
    "    ids.append(900)\n",
    "  else:\n",
    "    ids.append(int(id))"
   ]
  },
  {
   "cell_type": "code",
   "execution_count": null,
   "metadata": {
    "id": "aGpDClfY784L"
   },
   "outputs": [],
   "source": [
    "austria['GKZ'] = ids # district_id"
   ]
  },
  {
   "cell_type": "code",
   "execution_count": null,
   "metadata": {
    "colab": {
     "base_uri": "https://localhost:8080/",
     "height": 573
    },
    "id": "tv0t7AAA6Mme",
    "outputId": "9a280969-939a-4e6c-8872-d956dd1593b7"
   },
   "outputs": [],
   "source": [
    "austria = austria.merge(cov_district, on='GKZ', how=\"left\").fillna(0)\n",
    "austria.head()"
   ]
  },
  {
   "cell_type": "code",
   "execution_count": null,
   "metadata": {
    "colab": {
     "base_uri": "https://localhost:8080/",
     "height": 266
    },
    "id": "ZtXxkMC_DWPK",
    "outputId": "9f751e1c-b287-4c6d-997d-33ea24af071f"
   },
   "outputs": [],
   "source": [
    "#plot the austria map with cases as values\n",
    "austria.plot(column='Anzahl', legend=True)"
   ]
  },
  {
   "cell_type": "markdown",
   "metadata": {
    "id": "Am2FQGDeEdlJ"
   },
   "source": [
    "Show the relative cases "
   ]
  },
  {
   "cell_type": "code",
   "execution_count": null,
   "metadata": {
    "id": "rtFlW9qZhU4O"
   },
   "outputs": [],
   "source": [
    "# calculate the relative cases, store them in the column 'relative_cases'\n",
    "austria['relative_cases'] = austria['Anzahl'] / austria['AnzEinwohner']"
   ]
  },
  {
   "cell_type": "code",
   "execution_count": null,
   "metadata": {
    "colab": {
     "base_uri": "https://localhost:8080/",
     "height": 248
    },
    "id": "mLAHjQda41on",
    "outputId": "49d288e8-fa7d-483a-c162-837a75a23843"
   },
   "outputs": [],
   "source": [
    "# plot the relative cases on the austria map\n",
    "plt = austria.plot(column='relative_cases', legend=True)"
   ]
  },
  {
   "cell_type": "markdown",
   "metadata": {
    "id": "z9P_hgoCGBOi"
   },
   "source": [
    "[Lineplot](https://matplotlib.org/3.2.1/api/_as_gen/matplotlib.pyplot.plot.html) of general data"
   ]
  },
  {
   "cell_type": "code",
   "execution_count": null,
   "metadata": {
    "id": "u1jBMgaY0CT5"
   },
   "outputs": [],
   "source": [
    "general = pd.read_csv(\"/content/covid-data/latest/CovidFaelle_Timeline.csv\", sep=\";\")\n",
    "casenumbers = pd.read_csv(\"/content/covid-data/latest/CovidFallzahlen.csv\", sep=\";\")"
   ]
  },
  {
   "cell_type": "code",
   "execution_count": null,
   "metadata": {
    "id": "-yh8_0FLpoVO"
   },
   "outputs": [],
   "source": [
    "general = general[general['BundeslandID'] == 10]\n",
    "casenumbers = casenumbers[casenumbers['BundeslandID'] == 10]"
   ]
  },
  {
   "cell_type": "code",
   "execution_count": null,
   "metadata": {
    "id": "D5UfpKi0sD1j"
   },
   "outputs": [],
   "source": [
    "casenumbers = casenumbers.rename(columns={'MeldeDatum': 'Time'})"
   ]
  },
  {
   "cell_type": "code",
   "execution_count": null,
   "metadata": {
    "colab": {
     "base_uri": "https://localhost:8080/",
     "height": 313
    },
    "id": "M7_43AT7rt2M",
    "outputId": "e3e639e7-3697-4283-d4ba-3f06c3a257f7"
   },
   "outputs": [],
   "source": [
    "merged = pd.merge(general, casenumbers, on=['Time'], how='left').fillna(0)\n",
    "merged.head()"
   ]
  },
  {
   "cell_type": "code",
   "execution_count": null,
   "metadata": {
    "colab": {
     "base_uri": "https://localhost:8080/",
     "height": 350
    },
    "id": "EHwUouSKXeJ0",
    "outputId": "9753756f-8d6f-46aa-8ff5-e0f4fe2a2dec"
   },
   "outputs": [],
   "source": [
    "# call the .plot.line() function (https://pandas.pydata.org/pandas-docs/stable/reference/api/pandas.DataFrame.plot.line.html)\n",
    "lines = merged.plot.line(x=\"Time\", y=['AnzahlFaelle', 'FZHosp', 'FZICU', 'AnzahlTotTaeglich'], rot=45)"
   ]
  },
  {
   "cell_type": "code",
   "execution_count": null,
   "metadata": {
    "colab": {
     "base_uri": "https://localhost:8080/",
     "height": 309
    },
    "id": "LyyJERB31BvW",
    "outputId": "f70f0d1a-8dd2-4970-f3a6-a8df71b60f6d"
   },
   "outputs": [],
   "source": [
    "lines = merged.plot.line(subplots=True, x=\"Time\", y=['AnzahlFaelle', 'FZHosp', 'FZICU', 'AnzahlTotTaeglich'])"
   ]
  },
  {
   "cell_type": "code",
   "execution_count": null,
   "metadata": {
    "id": "aK9DPKmG4VFy"
   },
   "outputs": [],
   "source": []
  },
  {
   "cell_type": "markdown",
   "metadata": {
    "id": "PuN8yazCfDoM"
   },
   "source": [
    "Lineplot including healthy people"
   ]
  },
  {
   "cell_type": "code",
   "execution_count": null,
   "metadata": {
    "id": "6Rs8qM8qvu41"
   },
   "outputs": [],
   "source": [
    "merged['AnzahlAktuell'] = merged['AnzahlFaelleSum'] - merged['AnzahlGeheiltSum'] - merged['AnzahlTotSum']"
   ]
  },
  {
   "cell_type": "code",
   "execution_count": null,
   "metadata": {
    "colab": {
     "base_uri": "https://localhost:8080/",
     "height": 279
    },
    "id": "TmN18l5HcVTT",
    "outputId": "794580e4-937e-4d1f-c67b-4f6fa6706610"
   },
   "outputs": [],
   "source": [
    "lines = merged.plot.line(x=\"Time\", y=['AnzahlFaelleSum', 'AnzahlGeheiltSum', 'AnzahlAktuell', 'FZHosp', 'FZICU', 'AnzahlTotSum'])"
   ]
  },
  {
   "cell_type": "code",
   "execution_count": null,
   "metadata": {
    "id": "4_gMpmJLhs6L"
   },
   "outputs": [],
   "source": []
  },
  {
   "cell_type": "code",
   "execution_count": null,
   "metadata": {
    "id": "lqVj-Fx5Jpft"
   },
   "outputs": [],
   "source": []
  },
  {
   "cell_type": "code",
   "execution_count": null,
   "metadata": {
    "id": "O9PRrQuLJp2V"
   },
   "outputs": [],
   "source": []
  }
 ],
 "metadata": {
  "colab": {
   "collapsed_sections": [],
   "name": "CovID.ipynb",
   "provenance": []
  },
  "kernelspec": {
   "display_name": "Python 3",
   "language": "python",
   "name": "python3"
  },
  "language_info": {
   "codemirror_mode": {
    "name": "ipython",
    "version": 3
   },
   "file_extension": ".py",
   "mimetype": "text/x-python",
   "name": "python",
   "nbconvert_exporter": "python",
   "pygments_lexer": "ipython3",
   "version": "3.7.3"
  }
 },
 "nbformat": 4,
 "nbformat_minor": 1
}
