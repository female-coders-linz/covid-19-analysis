{
 "cells": [
  {
   "cell_type": "markdown",
   "metadata": {
    "id": "sfFOLtWOY7d-"
   },
   "source": [
    "Covid-19 Data analysis for Austria\n",
    "\n",
    "What we will do today:\n",
    "* Pie plot\n",
    "* Bar plot\n",
    "* plotting on a map\n",
    "* Line plot\n",
    "\n",
    "The data is taken from here https://github.com/statistikat/coronaDAT.git\n",
    "\n",
    "The map data for Austria is taken from here: https://www.data.gv.at/katalog/dataset/stat_gliederung-osterreichs-in-gemeinden14f53\n",
    "\n",
    "\n",
    "The official data was finally published and can be found here: https://www.data.gv.at/covid-19/"
   ]
  },
  {
   "cell_type": "code",
   "execution_count": null,
   "metadata": {
    "id": "ZBK2ZBADs_r6"
   },
   "outputs": [],
   "source": [
    "from IPython.display import clear_output"
   ]
  },
  {
   "cell_type": "markdown",
   "metadata": {
    "id": "kEiGMbUKYn3n"
   },
   "source": [
    "Install the libraries geopandas and gitpython"
   ]
  },
  {
   "cell_type": "code",
   "execution_count": null,
   "metadata": {
    "id": "wWc9QkvXMImr"
   },
   "outputs": [],
   "source": [
    "!pip install geopandas\n",
    "!pip install gitpython\n",
    "clear_output()"
   ]
  },
  {
   "cell_type": "markdown",
   "metadata": {
    "id": "vNEK7WOqYuH2"
   },
   "source": [
    "Import all needed libraries"
   ]
  },
  {
   "cell_type": "code",
   "execution_count": null,
   "metadata": {
    "id": "1Xqe1HkcMaJP"
   },
   "outputs": [],
   "source": [
    "import geopandas\n",
    "import numpy as np\n",
    "import pandas as pd\n",
    "\n",
    "import matplotlib.pyplot as plt\n",
    "\n",
    "import urllib.request\n",
    "import pathlib\n",
    "\n",
    "from zipfile import ZipFile\n",
    "import git\n",
    "import os\n",
    "\n",
    "% matplotlib inline"
   ]
  },
  {
   "cell_type": "markdown",
   "metadata": {
    "id": "XFOtQXFMUpjl"
   },
   "source": [
    "Clone the Git Repository which contains the Covid Data\n",
    "\n",
    "The data was originally scraped from https://info.gesundheitsministerium.at/ before the layout of the dashboard was completely changed. Meanwhile the data is officially available here: https://www.data.gv.at/covid-19/"
   ]
  },
  {
   "cell_type": "code",
   "execution_count": null,
   "metadata": {
    "colab": {
     "base_uri": "https://localhost:8080/",
     "height": 36
    },
    "id": "sKadmfMVZHsv",
    "outputId": "02fd7c3c-6593-4168-8d8a-6596da658faf"
   },
   "outputs": [],
   "source": [
    "os.mkdir(\"/content/covid-data\")\n",
    "\n",
    "repo = git.Repo.clone_from(\"https://github.com/statistikat/coronaDAT.git\", \"/content/covid-data\", no_checkout=True)\n",
    "repo.git.checkout(\"6aaadc8e4db5707dce148e34014f0e5324375f84\") # 23.04.2021"
   ]
  },
  {
   "cell_type": "code",
   "execution_count": null,
   "metadata": {
    "id": "toRJ-DLPL2AU"
   },
   "outputs": [],
   "source": [
    "# Create a ZipFile Object and load our data in it\n",
    "with ZipFile('/content/covid-data/archive/20210417/data/20210417_140201_orig_csv_ages.zip', 'r') as zipObj:\n",
    "   # Extract all the contents of zip file in different directory\n",
    "   zipObj.extractall('/content/covid-data/latest')"
   ]
  },
  {
   "cell_type": "markdown",
   "metadata": {
    "id": "FuFpilhMV7IX"
   },
   "source": [
    "Have a look at the downloaded data. How is the structure? What kind of data does it contain?"
   ]
  },
  {
   "cell_type": "markdown",
   "metadata": {
    "id": "y2TrxTjYXks_"
   },
   "source": [
    "Start with [PiePlot](https://matplotlib.org/3.1.1/api/_as_gen/matplotlib.axes.Axes.pie.html) of gender data\n"
   ]
  },
  {
   "cell_type": "code",
   "execution_count": null,
   "metadata": {
    "id": "OQxtslY7X-d3"
   },
   "outputs": [],
   "source": [
    "#load \"CovidFaelle_Altersgruppe.csv\" into the variable \"agegroup\"\n",
    "\n",
    "agegroup = pd.read_csv(\"/content/covid-data/latest/CovidFaelle_Altersgruppe.csv\", sep=\";\")"
   ]
  },
  {
   "cell_type": "code",
   "execution_count": null,
   "metadata": {
    "colab": {
     "base_uri": "https://localhost:8080/",
     "height": 226
    },
    "id": "1gzwfdKwMgRc",
    "outputId": "7f75de5d-a5cc-4902-d278-107ea5d40e4b"
   },
   "outputs": [],
   "source": [
    "#use the .head() function to look at the first few lines in the dataframe\n",
    "\n",
    "agegroup.head()"
   ]
  },
  {
   "cell_type": "code",
   "execution_count": null,
   "metadata": {
    "id": "WkKybIfkTT9Z"
   },
   "outputs": [],
   "source": [
    "#select only the rows were Bundesland is \"Österreich\"\n",
    "\n",
    "agegroup = agegroup[agegroup['Bundesland'] == \"Österreich\"]"
   ]
  },
  {
   "cell_type": "code",
   "execution_count": null,
   "metadata": {
    "id": "sEIhBYqJNK8a"
   },
   "outputs": [],
   "source": [
    "#calculate the sum of all male and female people who are currently sick (column \"Anzahl\" for the amount, column \"Geschlecht\" for the gender)\n",
    "\n",
    "sum_m = sum(agegroup[agegroup['Geschlecht'] == \"M\"]['Anzahl'])\n",
    "sum_f = sum(agegroup[agegroup['Geschlecht'] == \"W\"]['Anzahl'])\n",
    "\n",
    "#store the data in a new dataframe, so that we can visualize it easily later on\n",
    "\n",
    "gender = pd.DataFrame([[\"m\", sum_m], [\"f\", sum_f]], columns=['gender', 'freq'])"
   ]
  },
  {
   "cell_type": "code",
   "execution_count": null,
   "metadata": {
    "colab": {
     "base_uri": "https://localhost:8080/",
     "height": 303
    },
    "id": "FsXRxqIQYDV7",
    "outputId": "9a017819-14b1-4f55-ced7-cec56ee691ef"
   },
   "outputs": [],
   "source": [
    "# use the .plot.pie() function\n",
    "plot = gender.plot.pie(y='freq', figsize=(5, 5), autopct='%1.0f%%', pctdistance=0.3, labeldistance=1.2, labels=gender['gender'])"
   ]
  },
  {
   "cell_type": "markdown",
   "metadata": {
    "id": "6euUyjvna4Ek"
   },
   "source": [
    "[PiePlot](https://matplotlib.org/3.1.1/api/_as_gen/matplotlib.axes.Axes.pie.html) or [BarPlot](https://matplotlib.org/3.1.1/api/_as_gen/matplotlib.axes.Axes.bar.html#matplotlib.axes.Axes.bar) for age data?"
   ]
  },
  {
   "cell_type": "code",
   "execution_count": null,
   "metadata": {
    "id": "kOb7hpzvRQrP"
   },
   "outputs": [],
   "source": [
    "#create a new dataframe named \"age\"\n",
    "\n",
    "age = pd.DataFrame()\n",
    "\n",
    "# create and fill columns for \"agegroup\", \"female\", \"male\" and \"sum\"\n",
    "age['agegroup'] = list(dict.fromkeys(list(agegroup['Altersgruppe'])))\n",
    "age['male'] = list(agegroup[agegroup['Geschlecht'] == \"M\"]['Anzahl'])\n",
    "age['female'] = list(agegroup[agegroup['Geschlecht'] == \"W\"]['Anzahl'])\n",
    "\n",
    "age['sum'] = age['male'] + age['female']\n",
    "\n",
    "#add columns for \"female_inhabitants\", \"male_inhabitants\", \"sum_inhabitants\" and \"sum_norm\"\n",
    "age['female_inhabitants'] = list(agegroup[agegroup['Geschlecht'] == \"W\"]['AnzEinwohner'])\n",
    "age['male_inhabitants'] = list(agegroup[agegroup['Geschlecht'] == \"M\"]['AnzEinwohner'])\n",
    "age['sum_inhabitants'] = age['male_inhabitants'] + age['female_inhabitants']\n",
    "age['sum_norm'] = (age['male'] + age['female']) / age['sum_inhabitants']\n",
    "\n"
   ]
  },
  {
   "cell_type": "code",
   "execution_count": null,
   "metadata": {
    "colab": {
     "base_uri": "https://localhost:8080/",
     "height": 226
    },
    "id": "IVKZKM9BRlZz",
    "outputId": "aff19b56-3220-409e-9893-0b0c4ece8053"
   },
   "outputs": [],
   "source": [
    "age.head()"
   ]
  },
  {
   "cell_type": "code",
   "execution_count": null,
   "metadata": {
    "colab": {
     "base_uri": "https://localhost:8080/",
     "height": 303
    },
    "id": "roUxu6dZa84H",
    "outputId": "9493caa6-2e9c-4d21-aedb-d2290c59e359"
   },
   "outputs": [],
   "source": [
    "# use the .plot.pie() function\n",
    "plot = age.plot.pie(y='sum', figsize=(5, 5), autopct='%1.0f%%', pctdistance=0.5, labeldistance=1.2, labels=age['agegroup'])"
   ]
  },
  {
   "cell_type": "code",
   "execution_count": null,
   "metadata": {
    "colab": {
     "base_uri": "https://localhost:8080/",
     "height": 296
    },
    "id": "eoTXx9uzUO5L",
    "outputId": "4eb11317-ee35-40b5-fae6-717dfc073a5d"
   },
   "outputs": [],
   "source": [
    "# use the .plot.bar() function on column \"sum\"\n",
    "plot = age.plot.bar(x='agegroup', y='sum', rot=40)"
   ]
  },
  {
   "cell_type": "code",
   "execution_count": null,
   "metadata": {
    "colab": {
     "base_uri": "https://localhost:8080/",
     "height": 296
    },
    "id": "4kj-y0R0Dzlf",
    "outputId": "cafb76ac-9924-4b13-f291-1101724c68f7"
   },
   "outputs": [],
   "source": [
    "# use the .plot.bar() function on column \"sum_norm\"\n",
    "plot = age.plot.bar(x='agegroup', y='sum_norm', rot=40)"
   ]
  },
  {
   "cell_type": "code",
   "execution_count": null,
   "metadata": {
    "colab": {
     "base_uri": "https://localhost:8080/",
     "height": 314
    },
    "id": "7VTbVNsVa865",
    "outputId": "89a8b89f-e0fd-4d2c-c8d4-efbedb704ec7"
   },
   "outputs": [],
   "source": [
    "# use the .plot.bar() function to show the features \"female\" and \"male\" for each \"agegroup\"\n",
    "age.plot.bar(x='agegroup', y=['male', 'female'], rot=40)"
   ]
  },
  {
   "cell_type": "code",
   "execution_count": null,
   "metadata": {
    "id": "LOQ8OEJtYEq-"
   },
   "outputs": [],
   "source": []
  },
  {
   "cell_type": "markdown",
   "metadata": {
    "id": "F_PEDkk1dIgv"
   },
   "source": [
    "Show the data for the single districts on a map"
   ]
  },
  {
   "cell_type": "code",
   "execution_count": null,
   "metadata": {
    "id": "oNJlB36CYEs7"
   },
   "outputs": [],
   "source": [
    "# load \"CovidFaelle_GKZ.csv\" into the variable \"cov_district\"\n",
    "cov_district = pd.read_csv(\"/content/covid-data/latest/CovidFaelle_GKZ.csv\", sep=\";\")"
   ]
  },
  {
   "cell_type": "code",
   "execution_count": null,
   "metadata": {
    "colab": {
     "base_uri": "https://localhost:8080/",
     "height": 206
    },
    "id": "fXID9YPtZIPt",
    "outputId": "1fa0ba71-0dfa-41c3-cd12-cabac125815f"
   },
   "outputs": [],
   "source": [
    "cov_district.head()"
   ]
  },
  {
   "cell_type": "markdown",
   "metadata": {
    "id": "WEuXUiGSa0TP"
   },
   "source": [
    "Download the Shapefile for Austria. It's a file that describes the borders of states and villages in Austria."
   ]
  },
  {
   "cell_type": "code",
   "execution_count": null,
   "metadata": {
    "colab": {
     "base_uri": "https://localhost:8080/"
    },
    "id": "FyWo49bqNF8L",
    "outputId": "2b94ee31-b750-4ff7-fa77-5b1f953021f3"
   },
   "outputs": [],
   "source": [
    "#https://www.data.gv.at/katalog/dataset/stat_gliederung-osterreichs-in-gemeinden14f53\n",
    "url = \"http://data.statistik.gv.at/data/OGDEXT_GEM_1_STATISTIK_AUSTRIA_20200101.zip\"\n",
    "urllib.request.urlretrieve(url, '/content/Shapefile.zip')"
   ]
  },
  {
   "cell_type": "code",
   "execution_count": null,
   "metadata": {
    "id": "-L0YvsMxNGED"
   },
   "outputs": [],
   "source": [
    "# Create a ZipFile Object and load sample.zip in it\n",
    "with ZipFile('/content/Shapefile.zip', 'r') as zipObj:\n",
    "   # Extract all the contents of zip file in different directory\n",
    "   zipObj.extractall('Shapefile')"
   ]
  },
  {
   "cell_type": "code",
   "execution_count": null,
   "metadata": {
    "id": "UmIoRP3EN6-R"
   },
   "outputs": [],
   "source": [
    "# load the .shp file into the variable \"austria\"\n",
    "austria = geopandas.read_file('/content/Shapefile/STATISTIK_AUSTRIA_GEM_20200101Polygon.shp', encoding='utf-8')"
   ]
  },
  {
   "cell_type": "markdown",
   "metadata": {
    "id": "b3gLDzb2fhXM"
   },
   "source": [
    "Look at the shapefile dataframe, plot it"
   ]
  },
  {
   "cell_type": "code",
   "execution_count": null,
   "metadata": {
    "colab": {
     "base_uri": "https://localhost:8080/",
     "height": 206
    },
    "id": "XLQ_YbMzfdeG",
    "outputId": "801f7061-70d7-44f1-89b8-5a9dda5c5df6"
   },
   "outputs": [],
   "source": [
    "austria.head()"
   ]
  },
  {
   "cell_type": "code",
   "execution_count": null,
   "metadata": {
    "colab": {
     "base_uri": "https://localhost:8080/",
     "height": 238
    },
    "id": "RPbhTfnCN7i_",
    "outputId": "3c9b1d1b-7e5e-47db-f71f-56bf0df7cb6b"
   },
   "outputs": [],
   "source": [
    "austria.plot()"
   ]
  },
  {
   "cell_type": "code",
   "execution_count": null,
   "metadata": {
    "colab": {
     "base_uri": "https://localhost:8080/",
     "height": 283
    },
    "id": "jqG2A9A1fsnk",
    "outputId": "185fa345-8c51-48a2-fafc-abb77671316d"
   },
   "outputs": [],
   "source": [
    "austria[austria.name == \"Linz\"].plot()"
   ]
  },
  {
   "cell_type": "markdown",
   "metadata": {
    "id": "zHDdw9eJVy1B"
   },
   "source": [
    "Combine region data with cov data"
   ]
  },
  {
   "cell_type": "code",
   "execution_count": null,
   "metadata": {
    "id": "waTdl1oA-3zF"
   },
   "outputs": [],
   "source": [
    "# implement an algorithm: we need a list of the first 3 numbers of the ID.\n",
    "# there's one exception: whenever the Bezirk is in vienna, we have to take\n",
    "# the id for vienna, which is 900."
   ]
  },
  {
   "cell_type": "code",
   "execution_count": null,
   "metadata": {
    "id": "gEA2Mpor6IiT"
   },
   "outputs": [],
   "source": [
    "ids = []\n",
    "for id in austria['id']:\n",
    "  id = id[:-2]\n",
    "  if id[0] == '9':\n",
    "    ids.append(900)\n",
    "  else:\n",
    "    ids.append(int(id))"
   ]
  },
  {
   "cell_type": "code",
   "execution_count": null,
   "metadata": {
    "id": "aGpDClfY784L"
   },
   "outputs": [],
   "source": [
    "austria['GKZ'] = ids # district_id"
   ]
  },
  {
   "cell_type": "code",
   "execution_count": null,
   "metadata": {
    "colab": {
     "base_uri": "https://localhost:8080/",
     "height": 573
    },
    "id": "tv0t7AAA6Mme",
    "outputId": "cd541114-0e6d-4abd-b038-2547c3ded31a"
   },
   "outputs": [],
   "source": [
    "# use the .merge() function to add the cov_district dataframe to the austria dataframe\n",
    "\n",
    "austria = austria.merge(cov_district, on='GKZ', how=\"left\").fillna(0)\n",
    "austria.head()"
   ]
  },
  {
   "cell_type": "code",
   "execution_count": null,
   "metadata": {
    "colab": {
     "base_uri": "https://localhost:8080/",
     "height": 266
    },
    "id": "ZtXxkMC_DWPK",
    "outputId": "8d2d7f8f-eb03-46ab-fdb2-835cc5f1c0e4"
   },
   "outputs": [],
   "source": [
    "#plot the austria map with cases (Anzahl) as values\n",
    "austria.plot(column='Anzahl', legend=True)"
   ]
  },
  {
   "cell_type": "markdown",
   "metadata": {
    "id": "Am2FQGDeEdlJ"
   },
   "source": [
    "Show the relative cases "
   ]
  },
  {
   "cell_type": "code",
   "execution_count": null,
   "metadata": {
    "id": "rtFlW9qZhU4O"
   },
   "outputs": [],
   "source": [
    "# calculate the relative cases, store them in the column 'relative_cases'\n",
    "austria['relative_cases'] = austria['Anzahl'] / austria['AnzEinwohner']"
   ]
  },
  {
   "cell_type": "code",
   "execution_count": null,
   "metadata": {
    "colab": {
     "base_uri": "https://localhost:8080/",
     "height": 248
    },
    "id": "mLAHjQda41on",
    "outputId": "3b126033-a637-4bbb-e9d3-814b8b04c7f9"
   },
   "outputs": [],
   "source": [
    "# plot the relative cases on the austria map\n",
    "plt = austria.plot(column='relative_cases', legend=True)"
   ]
  },
  {
   "cell_type": "markdown",
   "metadata": {
    "id": "z9P_hgoCGBOi"
   },
   "source": [
    "[Lineplot](https://matplotlib.org/3.2.1/api/_as_gen/matplotlib.pyplot.plot.html) of general data"
   ]
  },
  {
   "cell_type": "code",
   "execution_count": null,
   "metadata": {
    "id": "u1jBMgaY0CT5"
   },
   "outputs": [],
   "source": [
    "# load \"CovidFaelle_Timeline.csv\" into the variable \"general\"\n",
    "# load \"CovidFallzahlen.csv\" into the variable \"casenumbers\"\n",
    "general = pd.read_csv(\"/content/covid-data/latest/CovidFaelle_Timeline.csv\", sep=\";\")\n",
    "casenumbers = pd.read_csv(\"/content/covid-data/latest/CovidFallzahlen.csv\", sep=\";\")"
   ]
  },
  {
   "cell_type": "code",
   "execution_count": null,
   "metadata": {
    "id": "-yh8_0FLpoVO"
   },
   "outputs": [],
   "source": [
    "# for both dataframes, reduce them to the values that refer to whole austria (BundeslandID = 10)\n",
    "general = general[general['BundeslandID'] == 10]\n",
    "casenumbers = casenumbers[casenumbers['BundeslandID'] == 10]"
   ]
  },
  {
   "cell_type": "code",
   "execution_count": null,
   "metadata": {
    "id": "D5UfpKi0sD1j"
   },
   "outputs": [],
   "source": [
    "casenumbers = casenumbers.rename(columns={'MeldeDatum': 'Time'})"
   ]
  },
  {
   "cell_type": "code",
   "execution_count": null,
   "metadata": {
    "colab": {
     "base_uri": "https://localhost:8080/",
     "height": 313
    },
    "id": "M7_43AT7rt2M",
    "outputId": "c953c0a1-86b0-4582-fc4e-9af046498366"
   },
   "outputs": [],
   "source": [
    "# use the pd.merge() function to merge the two dataframes together based on the \"Time\" value\n",
    "# store it in a new dataframe \"all_numbers\"\n",
    "\n",
    "all_numbers = pd.merge(general, casenumbers, on=['Time'], how='left').fillna(0)\n",
    "all_numbers.head()"
   ]
  },
  {
   "cell_type": "code",
   "execution_count": null,
   "metadata": {
    "colab": {
     "base_uri": "https://localhost:8080/",
     "height": 350
    },
    "id": "EHwUouSKXeJ0",
    "outputId": "60f8ee01-33de-4464-e523-0e20645db06b"
   },
   "outputs": [],
   "source": [
    "# call the .plot.line() function (https://pandas.pydata.org/pandas-docs/stable/reference/api/pandas.DataFrame.plot.line.html)\n",
    "lines = all_numbers.plot.line(x=\"Time\", y=['AnzahlFaelle', 'FZHosp', 'FZICU', 'AnzahlTotTaeglich'], rot=45)"
   ]
  },
  {
   "cell_type": "code",
   "execution_count": null,
   "metadata": {
    "colab": {
     "base_uri": "https://localhost:8080/",
     "height": 309
    },
    "id": "LyyJERB31BvW",
    "outputId": "849ab8e6-8e97-4842-a2ee-873d201be0aa"
   },
   "outputs": [],
   "source": [
    "lines = all_numbers.plot.line(subplots=True, x=\"Time\", y=['AnzahlFaelle', 'FZHosp', 'FZICU', 'AnzahlTotTaeglich'])"
   ]
  },
  {
   "cell_type": "code",
   "execution_count": null,
   "metadata": {
    "id": "aK9DPKmG4VFy"
   },
   "outputs": [],
   "source": []
  },
  {
   "cell_type": "markdown",
   "metadata": {
    "id": "PuN8yazCfDoM"
   },
   "source": [
    "Lineplot including healthy people"
   ]
  },
  {
   "cell_type": "code",
   "execution_count": null,
   "metadata": {
    "id": "6Rs8qM8qvu41"
   },
   "outputs": [],
   "source": [
    "# add column \"AnzahlAktuell\" and calculate the casenumbers\n",
    "all_numbers['AnzahlAktuell'] = all_numbers['AnzahlFaelleSum'] - all_numbers['AnzahlGeheiltSum'] - all_numbers['AnzahlTotSum']"
   ]
  },
  {
   "cell_type": "code",
   "execution_count": null,
   "metadata": {
    "colab": {
     "base_uri": "https://localhost:8080/",
     "height": 279
    },
    "id": "TmN18l5HcVTT",
    "outputId": "98b25344-02d9-4491-95fb-bc55cdddd5b0"
   },
   "outputs": [],
   "source": [
    "# plot again the lineplot with more features\n",
    "lines = all_numbers.plot.line(x=\"Time\", y=['AnzahlFaelleSum', 'AnzahlGeheiltSum', 'AnzahlAktuell', 'FZHosp', 'FZICU', 'AnzahlTotSum'])"
   ]
  },
  {
   "cell_type": "code",
   "execution_count": null,
   "metadata": {
    "id": "4_gMpmJLhs6L"
   },
   "outputs": [],
   "source": []
  },
  {
   "cell_type": "code",
   "execution_count": null,
   "metadata": {
    "id": "lqVj-Fx5Jpft"
   },
   "outputs": [],
   "source": []
  },
  {
   "cell_type": "code",
   "execution_count": null,
   "metadata": {
    "id": "O9PRrQuLJp2V"
   },
   "outputs": [],
   "source": []
  }
 ],
 "metadata": {
  "colab": {
   "collapsed_sections": [],
   "name": "CovID.ipynb",
   "provenance": []
  },
  "kernelspec": {
   "display_name": "Python 3",
   "language": "python",
   "name": "python3"
  },
  "language_info": {
   "codemirror_mode": {
    "name": "ipython",
    "version": 3
   },
   "file_extension": ".py",
   "mimetype": "text/x-python",
   "name": "python",
   "nbconvert_exporter": "python",
   "pygments_lexer": "ipython3",
   "version": "3.7.3"
  }
 },
 "nbformat": 4,
 "nbformat_minor": 1
}
