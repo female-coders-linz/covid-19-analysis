{
  "nbformat": 4,
  "nbformat_minor": 0,
  "metadata": {
    "colab": {
      "name": "CovID.ipynb",
      "provenance": [],
      "collapsed_sections": []
    },
    "kernelspec": {
      "name": "python3",
      "display_name": "Python 3"
    }
  },
  "cells": [
    {
      "cell_type": "markdown",
      "metadata": {
        "id": "sfFOLtWOY7d-",
        "colab_type": "text"
      },
      "source": [
        "Covid-19 Data analysis for Austria\n",
        "\n",
        "What we will do today:\n",
        "* Pie plot\n",
        "* Bar plot\n",
        "* plotting on a map\n",
        "* Line plot\n",
        "\n",
        "The data is taken from here https://github.com/statistikat/coronaDAT.git\n",
        "\n",
        "The map data for Austria is taken from here: https://www.data.gv.at/katalog/dataset/stat_gliederung-osterreichs-in-gemeinden14f53\n",
        "\n",
        "The additional info about the districts is takenfrom wikipedia: https://de.wikipedia.org/wiki/Liste_der_Bezirke_und_Statutarst%C3%A4dte_in_%C3%96sterreich\n",
        "\n",
        "\n",
        "The official data was finally published and can be found here: https://www.data.gv.at/covid-19/"
      ]
    },
    {
      "cell_type": "code",
      "metadata": {
        "id": "ZBK2ZBADs_r6",
        "colab_type": "code",
        "colab": {}
      },
      "source": [
        "from IPython.display import clear_output"
      ],
      "execution_count": 0,
      "outputs": []
    },
    {
      "cell_type": "markdown",
      "metadata": {
        "id": "kEiGMbUKYn3n",
        "colab_type": "text"
      },
      "source": [
        "Install the libraries geopandas and gitpython"
      ]
    },
    {
      "cell_type": "code",
      "metadata": {
        "id": "wWc9QkvXMImr",
        "colab_type": "code",
        "colab": {}
      },
      "source": [
        "!pip install geopandas\n",
        "!pip install gitpython\n",
        "clear_output()"
      ],
      "execution_count": 0,
      "outputs": []
    },
    {
      "cell_type": "markdown",
      "metadata": {
        "id": "vNEK7WOqYuH2",
        "colab_type": "text"
      },
      "source": [
        "Import all needed libraries"
      ]
    },
    {
      "cell_type": "code",
      "metadata": {
        "id": "1Xqe1HkcMaJP",
        "colab_type": "code",
        "colab": {}
      },
      "source": [
        "import geopandas\n",
        "import numpy as np\n",
        "import pandas as pd\n",
        "\n",
        "import matplotlib.pyplot as plt\n",
        "\n",
        "import urllib.request\n",
        "import pathlib\n",
        "\n",
        "from zipfile import ZipFile\n",
        "import git\n",
        "import os\n",
        "\n",
        "% matplotlib inline"
      ],
      "execution_count": 0,
      "outputs": []
    },
    {
      "cell_type": "markdown",
      "metadata": {
        "id": "XFOtQXFMUpjl",
        "colab_type": "text"
      },
      "source": [
        "Clone the Git Repository which contains the Covid Data\n",
        "\n",
        "The data was originally scraped from https://info.gesundheitsministerium.at/ before the layout of the dashboard was completely changed. Meanwhile the data is officially available here: https://www.data.gv.at/covid-19/"
      ]
    },
    {
      "cell_type": "code",
      "metadata": {
        "id": "sKadmfMVZHsv",
        "colab_type": "code",
        "colab": {}
      },
      "source": [
        "os.mkdir(\"/content/covid-data\")\n",
        "\n",
        "repo = git.Repo.clone_from(\"https://github.com/statistikat/coronaDAT.git\", \"/content/covid-data\", no_checkout=True)\n",
        "repo.git.checkout(\"8f9ffd3b1159172a331bd42ed08a5d2afd24cd8d\")"
      ],
      "execution_count": 0,
      "outputs": []
    },
    {
      "cell_type": "markdown",
      "metadata": {
        "id": "FuFpilhMV7IX",
        "colab_type": "text"
      },
      "source": [
        "Have a look at the downloaded data. How is the structure? What kind of data does it contain?"
      ]
    },
    {
      "cell_type": "markdown",
      "metadata": {
        "id": "y2TrxTjYXks_",
        "colab_type": "text"
      },
      "source": [
        "Start with [PiePlot](https://matplotlib.org/3.1.1/api/_as_gen/matplotlib.axes.Axes.pie.html) of gender data\n"
      ]
    },
    {
      "cell_type": "code",
      "metadata": {
        "id": "OQxtslY7X-d3",
        "colab_type": "code",
        "colab": {}
      },
      "source": [
        "gender = pd.read_csv(\"/content/covid-data/latest/geschlecht.csv\", sep=\";\")"
      ],
      "execution_count": 0,
      "outputs": []
    },
    {
      "cell_type": "code",
      "metadata": {
        "id": "XlQ6EEhSYCBZ",
        "colab_type": "code",
        "colab": {}
      },
      "source": [
        "gender.index = gender['geschlecht']"
      ],
      "execution_count": 0,
      "outputs": []
    },
    {
      "cell_type": "code",
      "metadata": {
        "id": "XeaUmrpTYDT4",
        "colab_type": "code",
        "colab": {}
      },
      "source": [
        "gender"
      ],
      "execution_count": 0,
      "outputs": []
    },
    {
      "cell_type": "code",
      "metadata": {
        "id": "FsXRxqIQYDV7",
        "colab_type": "code",
        "colab": {}
      },
      "source": [
        "# use the .plot.pie() function\n",
        "plot = gender.plot.pie(y='freq', figsize=(5, 5), autopct='%1.0f%%', pctdistance=0.3, labeldistance=1.2)"
      ],
      "execution_count": 0,
      "outputs": []
    },
    {
      "cell_type": "code",
      "metadata": {
        "id": "WhNGwM3xJDqX",
        "colab_type": "code",
        "colab": {}
      },
      "source": [
        ""
      ],
      "execution_count": 0,
      "outputs": []
    },
    {
      "cell_type": "markdown",
      "metadata": {
        "id": "6euUyjvna4Ek",
        "colab_type": "text"
      },
      "source": [
        "[PiePlot](https://matplotlib.org/3.1.1/api/_as_gen/matplotlib.axes.Axes.pie.html) or [BarPlot](https://matplotlib.org/3.1.1/api/_as_gen/matplotlib.axes.Axes.bar.html#matplotlib.axes.Axes.bar) for age data?"
      ]
    },
    {
      "cell_type": "code",
      "metadata": {
        "id": "TLP-48pBYFdu",
        "colab_type": "code",
        "colab": {}
      },
      "source": [
        "age = pd.read_csv(\"/content/covid-data/latest/alter.csv\", sep=\";\")"
      ],
      "execution_count": 0,
      "outputs": []
    },
    {
      "cell_type": "code",
      "metadata": {
        "colab_type": "code",
        "id": "5Zt0dFi9CysS",
        "colab": {}
      },
      "source": [
        "age.index = age['altersgruppe']"
      ],
      "execution_count": 0,
      "outputs": []
    },
    {
      "cell_type": "code",
      "metadata": {
        "id": "DOdqJ61ta81g",
        "colab_type": "code",
        "colab": {}
      },
      "source": [
        "age"
      ],
      "execution_count": 0,
      "outputs": []
    },
    {
      "cell_type": "code",
      "metadata": {
        "id": "roUxu6dZa84H",
        "colab_type": "code",
        "colab": {}
      },
      "source": [
        "# use the .plot.pie() function\n"
      ],
      "execution_count": 0,
      "outputs": []
    },
    {
      "cell_type": "code",
      "metadata": {
        "id": "7VTbVNsVa865",
        "colab_type": "code",
        "colab": {}
      },
      "source": [
        "# use the .plot.bar() function\n"
      ],
      "execution_count": 0,
      "outputs": []
    },
    {
      "cell_type": "code",
      "metadata": {
        "id": "LOQ8OEJtYEq-",
        "colab_type": "code",
        "colab": {}
      },
      "source": [
        ""
      ],
      "execution_count": 0,
      "outputs": []
    },
    {
      "cell_type": "markdown",
      "metadata": {
        "id": "F_PEDkk1dIgv",
        "colab_type": "text"
      },
      "source": [
        "Show the data for the single districts on a map"
      ]
    },
    {
      "cell_type": "code",
      "metadata": {
        "id": "oNJlB36CYEs7",
        "colab_type": "code",
        "colab": {}
      },
      "source": [
        "cov_district = pd.read_csv(\"/content/covid-data/latest/bezirke.csv\", sep=\";\")"
      ],
      "execution_count": 0,
      "outputs": []
    },
    {
      "cell_type": "code",
      "metadata": {
        "id": "fXID9YPtZIPt",
        "colab_type": "code",
        "colab": {}
      },
      "source": [
        "cov_district.head()"
      ],
      "execution_count": 0,
      "outputs": []
    },
    {
      "cell_type": "markdown",
      "metadata": {
        "id": "WEuXUiGSa0TP",
        "colab_type": "text"
      },
      "source": [
        "Download the Shapefile for Austria. It's a file that describes the borders of states and villages in Austria."
      ]
    },
    {
      "cell_type": "code",
      "metadata": {
        "id": "FyWo49bqNF8L",
        "colab_type": "code",
        "colab": {}
      },
      "source": [
        "#https://www.data.gv.at/katalog/dataset/stat_gliederung-osterreichs-in-gemeinden14f53\n",
        "url = \"http://data.statistik.gv.at/data/OGDEXT_GEM_1_STATISTIK_AUSTRIA_20200101.zip\"\n",
        "urllib.request.urlretrieve(url, '/content/Shapefile.zip')"
      ],
      "execution_count": 0,
      "outputs": []
    },
    {
      "cell_type": "code",
      "metadata": {
        "id": "-L0YvsMxNGED",
        "colab_type": "code",
        "colab": {}
      },
      "source": [
        "# Create a ZipFile Object and load sample.zip in it\n",
        "with ZipFile('/content/Shapefile.zip', 'r') as zipObj:\n",
        "   # Extract all the contents of zip file in different directory\n",
        "   zipObj.extractall('Shapefile')"
      ],
      "execution_count": 0,
      "outputs": []
    },
    {
      "cell_type": "code",
      "metadata": {
        "id": "UmIoRP3EN6-R",
        "colab_type": "code",
        "colab": {}
      },
      "source": [
        "# load the .shp file into the variable \"austria\"\n",
        "austria = geopandas.read_file('/content/Shapefile/STATISTIK_AUSTRIA_GEM_20200101Polygon.shp', encoding='utf-8')"
      ],
      "execution_count": 0,
      "outputs": []
    },
    {
      "cell_type": "markdown",
      "metadata": {
        "id": "b3gLDzb2fhXM",
        "colab_type": "text"
      },
      "source": [
        "Look at the shapefile dataframe, plot it"
      ]
    },
    {
      "cell_type": "code",
      "metadata": {
        "id": "XLQ_YbMzfdeG",
        "colab_type": "code",
        "colab": {}
      },
      "source": [
        "austria.head()"
      ],
      "execution_count": 0,
      "outputs": []
    },
    {
      "cell_type": "code",
      "metadata": {
        "id": "RPbhTfnCN7i_",
        "colab_type": "code",
        "colab": {}
      },
      "source": [
        "austria.plot()"
      ],
      "execution_count": 0,
      "outputs": []
    },
    {
      "cell_type": "code",
      "metadata": {
        "id": "jqG2A9A1fsnk",
        "colab_type": "code",
        "colab": {}
      },
      "source": [
        "austria[austria.name == \"Linz\"].plot()"
      ],
      "execution_count": 0,
      "outputs": []
    },
    {
      "cell_type": "code",
      "metadata": {
        "id": "waTdl1oA-3zF",
        "colab_type": "code",
        "colab": {}
      },
      "source": [
        ""
      ],
      "execution_count": 0,
      "outputs": []
    },
    {
      "cell_type": "markdown",
      "metadata": {
        "id": "Hd0bw2Wj-4Bu",
        "colab_type": "text"
      },
      "source": [
        "Load additional Data about the districts (we's especially like to know the number of inhabitants)"
      ]
    },
    {
      "cell_type": "code",
      "metadata": {
        "id": "WF4Mk51HYqgt",
        "colab_type": "code",
        "colab": {}
      },
      "source": [
        "git.Git(\"/content/\").clone(\"https://github.com/female-coders-linz/covid-19-analysis.git\")"
      ],
      "execution_count": 0,
      "outputs": []
    },
    {
      "cell_type": "code",
      "metadata": {
        "id": "LG49yXinZIZe",
        "colab_type": "code",
        "colab": {}
      },
      "source": [
        "districts = pd.read_csv(\"/content/covid-19-analysis/data/Wohnbezirke.csv\")"
      ],
      "execution_count": 0,
      "outputs": []
    },
    {
      "cell_type": "code",
      "metadata": {
        "id": "U0TNi5OlaEiB",
        "colab_type": "code",
        "colab": {}
      },
      "source": [
        "districts.columns = ['district_id', 'district_name', 'bundesland', 'Kfz_Kz', 'area', 'inhabitants', 'population_denseness', 'amount', 'region_name']"
      ],
      "execution_count": 0,
      "outputs": []
    },
    {
      "cell_type": "code",
      "metadata": {
        "id": "NnvbAowtQ8Ov",
        "colab_type": "code",
        "colab": {}
      },
      "source": [
        "districts.head()"
      ],
      "execution_count": 0,
      "outputs": []
    },
    {
      "cell_type": "code",
      "metadata": {
        "id": "yEkZTubUDv7q",
        "colab_type": "code",
        "colab": {}
      },
      "source": [
        "def to_numeric(series):\n",
        "  series = pd.to_numeric(series.apply(lambda x : x.replace(\".\", \"\")))\n",
        "  return series\n",
        "\n",
        "\n",
        "def clean_districts(districts_df):\n",
        "  districts_df = districts_df.drop(21)\n",
        "  districts_df = districts_df.drop(columns=['Kfz_Kz', 'area', 'population_denseness', 'amount', 'region_name'])\n",
        "\n",
        "  districts_df[\"inhabitants\"] = to_numeric(districts_df[\"inhabitants\"])\n",
        "\n",
        "  return districts_df"
      ],
      "execution_count": 0,
      "outputs": []
    },
    {
      "cell_type": "code",
      "metadata": {
        "id": "H3AOpTTEENZ7",
        "colab_type": "code",
        "colab": {}
      },
      "source": [
        "districts = clean_districts(districts)"
      ],
      "execution_count": 0,
      "outputs": []
    },
    {
      "cell_type": "code",
      "metadata": {
        "id": "K_Qsy6cswpwK",
        "colab_type": "code",
        "colab": {}
      },
      "source": [
        "districts"
      ],
      "execution_count": 0,
      "outputs": []
    },
    {
      "cell_type": "code",
      "metadata": {
        "id": "IVQ0J-GoV_ZQ",
        "colab_type": "code",
        "colab": {}
      },
      "source": [
        "sum(districts['inhabitants'])"
      ],
      "execution_count": 0,
      "outputs": []
    },
    {
      "cell_type": "markdown",
      "metadata": {
        "id": "ZJYkfuRYSB-1",
        "colab_type": "text"
      },
      "source": [
        "assign district data zu each entry in shapefile"
      ]
    },
    {
      "cell_type": "code",
      "metadata": {
        "id": "4lIkhmY7Q8V1",
        "colab_type": "code",
        "colab": {}
      },
      "source": [
        "austria.head()"
      ],
      "execution_count": 0,
      "outputs": []
    },
    {
      "cell_type": "code",
      "metadata": {
        "id": "_vtttSdIn-jI",
        "colab_type": "code",
        "colab": {}
      },
      "source": [
        "districts.head()"
      ],
      "execution_count": 0,
      "outputs": []
    },
    {
      "cell_type": "code",
      "metadata": {
        "id": "9KNStUiZSQFV",
        "colab_type": "code",
        "colab": {}
      },
      "source": [
        "#iterate through the austria dataframe. for each entry find the according district.\n",
        "#special case vienna: we only have the district data for whole vienna.\n",
        "\n",
        "dist = []\n",
        "\n",
        "for idx, row in austria.iterrows():\n",
        "  for dist_idx, dist_row in districts.iterrows():\n",
        "    if row['id'].startswith(dist_row['district_id']) and len(dist) == idx:\n",
        "      dist.append(dist_row['district_id'])\n",
        "  if row['id'].startswith('9') and len(dist) == idx:\n",
        "    dist.append('900')\n",
        "  #if len(bzk) == idx:\n",
        "    #bzk.append('0')\n",
        "    #print(row['id'])\n",
        "    #print(row['name'])\n"
      ],
      "execution_count": 0,
      "outputs": []
    },
    {
      "cell_type": "code",
      "metadata": {
        "id": "m19nDBxcUZLj",
        "colab_type": "code",
        "colab": {}
      },
      "source": [
        "austria['district_id'] = dist"
      ],
      "execution_count": 0,
      "outputs": []
    },
    {
      "cell_type": "markdown",
      "metadata": {
        "id": "BRP0XkU6Bs-6",
        "colab_type": "text"
      },
      "source": [
        "Assign case-frequencies of cov_district and number of inhabitants of districts to the shapefile"
      ]
    },
    {
      "cell_type": "code",
      "metadata": {
        "id": "EqoKYIg6CyRh",
        "colab_type": "code",
        "colab": {}
      },
      "source": [
        "district_cases_dict = cov_district.set_index('bkz').to_dict()['freq']"
      ],
      "execution_count": 0,
      "outputs": []
    },
    {
      "cell_type": "code",
      "metadata": {
        "id": "xiqoeoVpjThh",
        "colab_type": "code",
        "colab": {}
      },
      "source": [
        "austria['cases'] = pd.to_numeric(austria['district_id'])\n",
        "\n",
        "#not all bezirk ids are present in the dict, add the missing ones and assign 1 case\n",
        "for i,row in austria.iterrows():\n",
        "  if int(row['district_id']) not in list(district_cases_dict.keys()):\n",
        "    district_cases_dict[int(row['district_id'])] = 1"
      ],
      "execution_count": 0,
      "outputs": []
    },
    {
      "cell_type": "code",
      "metadata": {
        "id": "D4VOKauaC1h0",
        "colab_type": "code",
        "colab": {}
      },
      "source": [
        "austria['cases'] = pd.to_numeric(austria['cases'].replace(district_cases_dict))"
      ],
      "execution_count": 0,
      "outputs": []
    },
    {
      "cell_type": "code",
      "metadata": {
        "id": "r0iZCoNcCzvJ",
        "colab_type": "code",
        "colab": {}
      },
      "source": [
        "district_inhabitants_dict = districts.set_index('district_id').to_dict()['inhabitants']"
      ],
      "execution_count": 0,
      "outputs": []
    },
    {
      "cell_type": "code",
      "metadata": {
        "id": "TYoFzZa3nNh7",
        "colab_type": "code",
        "colab": {}
      },
      "source": [
        "austria['inhabitants'] = austria['district_id']\n",
        "austria['inhabitants'] = pd.to_numeric(austria['inhabitants'].replace(district_inhabitants_dict))"
      ],
      "execution_count": 0,
      "outputs": []
    },
    {
      "cell_type": "code",
      "metadata": {
        "id": "ZtXxkMC_DWPK",
        "colab_type": "code",
        "colab": {}
      },
      "source": [
        "#plot the austria map with cases as values\n"
      ],
      "execution_count": 0,
      "outputs": []
    },
    {
      "cell_type": "code",
      "metadata": {
        "id": "qiapIg_dLgai",
        "colab_type": "code",
        "colab": {}
      },
      "source": [
        ""
      ],
      "execution_count": 0,
      "outputs": []
    },
    {
      "cell_type": "markdown",
      "metadata": {
        "id": "Am2FQGDeEdlJ",
        "colab_type": "text"
      },
      "source": [
        "Show the relative cases "
      ]
    },
    {
      "cell_type": "code",
      "metadata": {
        "id": "rtFlW9qZhU4O",
        "colab_type": "code",
        "colab": {}
      },
      "source": [
        "# calculate the relative cases, store them in the column 'relative_cases'\n"
      ],
      "execution_count": 0,
      "outputs": []
    },
    {
      "cell_type": "code",
      "metadata": {
        "id": "kkuR1w4Ug8Lf",
        "colab_type": "code",
        "colab": {}
      },
      "source": [
        "austria.head()"
      ],
      "execution_count": 0,
      "outputs": []
    },
    {
      "cell_type": "code",
      "metadata": {
        "id": "mLAHjQda41on",
        "colab_type": "code",
        "colab": {}
      },
      "source": [
        "# plot the relative cases on the austria map\n"
      ],
      "execution_count": 0,
      "outputs": []
    },
    {
      "cell_type": "code",
      "metadata": {
        "id": "Dm3NqgHD0Gw7",
        "colab_type": "code",
        "colab": {}
      },
      "source": [
        ""
      ],
      "execution_count": 0,
      "outputs": []
    },
    {
      "cell_type": "markdown",
      "metadata": {
        "id": "z9P_hgoCGBOi",
        "colab_type": "text"
      },
      "source": [
        "[Lineplot](https://matplotlib.org/3.2.1/api/_as_gen/matplotlib.pyplot.plot.html) of general data"
      ]
    },
    {
      "cell_type": "code",
      "metadata": {
        "id": "u1jBMgaY0CT5",
        "colab_type": "code",
        "colab": {}
      },
      "source": [
        "general = pd.read_csv(\"/content/covid-data/latest/allgemein.csv\", sep=\";\")"
      ],
      "execution_count": 0,
      "outputs": []
    },
    {
      "cell_type": "code",
      "metadata": {
        "id": "B6g9moFF0CXF",
        "colab_type": "code",
        "colab": {}
      },
      "source": [
        "general"
      ],
      "execution_count": 0,
      "outputs": []
    },
    {
      "cell_type": "code",
      "metadata": {
        "id": "QbhoHgPf1BnK",
        "colab_type": "code",
        "colab": {}
      },
      "source": [
        "# for every folder in the archive, load the general data and add them to the dataframe\n",
        "archive_folder = \"/content/covid-data/archive/\"\n",
        "data = []\n",
        "general = pd.DataFrame(columns=['erkrankungen', 'hospitalisiert', 'intensivstation', 'nr_tests', 'date'])\n",
        "folders = os.listdir(archive_folder)\n",
        "folders.sort()\n",
        "for folder in folders:\n",
        "  d = pd.read_csv(os.path.join(archive_folder, folder, \"ts\", \"allgemein.csv\"), sep=\";\")\n",
        "  general = general.append(d)"
      ],
      "execution_count": 0,
      "outputs": []
    },
    {
      "cell_type": "code",
      "metadata": {
        "id": "6eBlXv42GR2g",
        "colab_type": "code",
        "colab": {}
      },
      "source": [
        "general"
      ],
      "execution_count": 0,
      "outputs": []
    },
    {
      "cell_type": "code",
      "metadata": {
        "id": "EHwUouSKXeJ0",
        "colab_type": "code",
        "colab": {}
      },
      "source": [
        "# call the .plot.line() function (https://pandas.pydata.org/pandas-docs/stable/reference/api/pandas.DataFrame.plot.line.html)\n"
      ],
      "execution_count": 0,
      "outputs": []
    },
    {
      "cell_type": "code",
      "metadata": {
        "id": "LyyJERB31BvW",
        "colab_type": "code",
        "colab": {}
      },
      "source": [
        "# plot with subplots=True\n"
      ],
      "execution_count": 0,
      "outputs": []
    },
    {
      "cell_type": "code",
      "metadata": {
        "id": "QeNYS_kD1B08",
        "colab_type": "code",
        "colab": {}
      },
      "source": [
        "# plot with only erkrankungen, hospitalisiert and intensivstation\n"
      ],
      "execution_count": 0,
      "outputs": []
    },
    {
      "cell_type": "code",
      "metadata": {
        "id": "aK9DPKmG4VFy",
        "colab_type": "code",
        "colab": {}
      },
      "source": [
        ""
      ],
      "execution_count": 0,
      "outputs": []
    },
    {
      "cell_type": "markdown",
      "metadata": {
        "id": "PuN8yazCfDoM",
        "colab_type": "text"
      },
      "source": [
        "Lineplot including healthy people"
      ]
    },
    {
      "cell_type": "code",
      "metadata": {
        "id": "DEA6Pt__4VLo",
        "colab_type": "code",
        "colab": {}
      },
      "source": [
        "def load_and_clean_data(filename, aggregation_functions):\n",
        "  data = pd.read_csv(filename, sep=\";\")\n",
        "\n",
        "  #aggregate all the data for the single states. we are interested in the overall numbers\n",
        "  data = data.groupby(data['date'], as_index=False).aggregate(aggregation_functions).reindex(columns=data.columns)\n",
        "  data['date'] = data['date'].apply(lambda x : x.split()[0])\n",
        "  data = data.set_index(data['date'])\n",
        "  data = data.drop(columns=['nuts2', 'date'])\n",
        "  data = data.loc[~data.index.duplicated(keep='first')]\n",
        "  return data"
      ],
      "execution_count": 0,
      "outputs": []
    },
    {
      "cell_type": "code",
      "metadata": {
        "id": "d98TVMAjHxKn",
        "colab_type": "code",
        "colab": {}
      },
      "source": [
        "healthy = load_and_clean_data(\"/content/covid-data/ts/gesundungen_bl.csv\", {'nuts2': 'first', 'gesundungen': 'sum'})\n",
        "hospital = load_and_clean_data(\"/content/covid-data/ts/hospitalisierungen_bl.csv\", {'nuts2': 'first', 'hospitalisiert': 'sum', 'intensivstation': 'sum', 'nr_tests': 'first'})\n",
        "dead = load_and_clean_data(\"/content/covid-data/ts/sterbefaelle_bl.csv\", {'nuts2': 'first', 'todesfaelle': 'sum'})"
      ],
      "execution_count": 0,
      "outputs": []
    },
    {
      "cell_type": "code",
      "metadata": {
        "id": "Rid-JvcxIl3G",
        "colab_type": "code",
        "colab": {}
      },
      "source": [
        "# get the data about sick people from the general dataframe\n",
        "sick = general\n",
        "sick['date'] = sick['date'].apply(lambda x : x.split()[0])\n",
        "sick = sick.set_index(sick['date'])\n",
        "sick = sick.drop(columns=['hospitalisiert', 'intensivstation', 'nr_tests', 'date'])\n",
        "sick = sick.loc[~sick.index.duplicated(keep='first')]"
      ],
      "execution_count": 0,
      "outputs": []
    },
    {
      "cell_type": "code",
      "metadata": {
        "id": "uRsNM21paQzB",
        "colab_type": "code",
        "colab": {}
      },
      "source": [
        "result = pd.concat([sick, healthy, hospital, dead], axis=1, sort=True)"
      ],
      "execution_count": 0,
      "outputs": []
    },
    {
      "cell_type": "code",
      "metadata": {
        "id": "Lna5-0Ymj0Mp",
        "colab_type": "code",
        "colab": {}
      },
      "source": [
        "result['aktuell_krank'] = result['erkrankungen'] - result['gesundungen'] - result['todesfaelle']"
      ],
      "execution_count": 0,
      "outputs": []
    },
    {
      "cell_type": "code",
      "metadata": {
        "id": "TmN18l5HcVTT",
        "colab_type": "code",
        "colab": {}
      },
      "source": [
        "# plot only erkrankungen, gesundungen, aktuell_krank, hospitalisiert, intensivstation, todesfaelle\n"
      ],
      "execution_count": 0,
      "outputs": []
    },
    {
      "cell_type": "code",
      "metadata": {
        "id": "4_gMpmJLhs6L",
        "colab_type": "code",
        "colab": {}
      },
      "source": [
        ""
      ],
      "execution_count": 0,
      "outputs": []
    },
    {
      "cell_type": "code",
      "metadata": {
        "id": "lqVj-Fx5Jpft",
        "colab_type": "code",
        "colab": {}
      },
      "source": [
        ""
      ],
      "execution_count": 0,
      "outputs": []
    },
    {
      "cell_type": "code",
      "metadata": {
        "id": "O9PRrQuLJp2V",
        "colab_type": "code",
        "colab": {}
      },
      "source": [
        ""
      ],
      "execution_count": 0,
      "outputs": []
    }
  ]
}